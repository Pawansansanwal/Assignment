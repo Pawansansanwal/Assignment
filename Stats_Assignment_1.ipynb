{
  "nbformat": 4,
  "nbformat_minor": 0,
  "metadata": {
    "colab": {
      "name": "Stats Assignment 1.ipynb",
      "provenance": [],
      "collapsed_sections": [],
      "authorship_tag": "ABX9TyPKCB1evmVeGXLwDGi8VNxy",
      "include_colab_link": true
    },
    "kernelspec": {
      "name": "python3",
      "display_name": "Python 3"
    }
  },
  "cells": [
    {
      "cell_type": "markdown",
      "metadata": {
        "id": "view-in-github",
        "colab_type": "text"
      },
      "source": [
        "<a href=\"https://colab.research.google.com/github/Pawansansanwal/Assignment/blob/master/Stats_Assignment_1.ipynb\" target=\"_parent\"><img src=\"https://colab.research.google.com/assets/colab-badge.svg\" alt=\"Open In Colab\"/></a>"
      ]
    },
    {
      "cell_type": "code",
      "metadata": {
        "id": "hq-c1CnMmMUF"
      },
      "source": [
        "import numpy as np\n",
        "from scipy import stats\n",
        "import statistics\n",
        "# import scipy.integrate.quad \n",
        "from scipy import integrate\n",
        "import pandas as pd\n",
        "import scipy.special\n",
        "from scipy.stats import binom\n",
        "import numpy as np\n",
        "import matplotlib.pyplot as plt\n",
        "from scipy.stats import poisson\n",
        "from scipy.stats import norm"
      ],
      "execution_count": 35,
      "outputs": []
    },
    {
      "cell_type": "markdown",
      "metadata": {
        "id": "RKedrY6pKrgW"
      },
      "source": [
        "**Calculate the mean, median, mode and standard deviation for the problem  statements 1 & 2.**\n",
        "\n"
      ]
    },
    {
      "cell_type": "markdown",
      "metadata": {
        "id": "QMDrsZuX84Lw"
      },
      "source": [
        "**Problem Statement 1:  \n",
        "The marks awarded for an assignment set for a Year 8 class of 20 students were as  follows: \n",
        "6 7 5 7 7 8 7 6 9 7 4 10 6 8 8 9 5 6 4 8**"
      ]
    },
    {
      "cell_type": "code",
      "metadata": {
        "id": "t6K2raPJKgrw"
      },
      "source": [
        "marks = [6,7,5,7,7,8,7,6,9,7,4,10,6,8,8,9,5,6,4,8]"
      ],
      "execution_count": 3,
      "outputs": []
    },
    {
      "cell_type": "code",
      "metadata": {
        "colab": {
          "base_uri": "https://localhost:8080/"
        },
        "id": "pfkreoZZmoEU",
        "outputId": "966ccce7-be52-47d9-c98c-49226330141a"
      },
      "source": [
        "mean_marks = np.mean(marks)\n",
        "print(\"mean of marks is \" + str(mean_marks))"
      ],
      "execution_count": 4,
      "outputs": [
        {
          "output_type": "stream",
          "text": [
            "mean of marks is 6.85\n"
          ],
          "name": "stdout"
        }
      ]
    },
    {
      "cell_type": "code",
      "metadata": {
        "colab": {
          "base_uri": "https://localhost:8080/"
        },
        "id": "Pa_0Qv7emnud",
        "outputId": "306a3ef9-9138-4b3e-bcfc-fcc4a5cde18f"
      },
      "source": [
        "median_of_marks = np.median(marks)\n",
        "print(\"median of marks is \" + str(median_of_marks))"
      ],
      "execution_count": 5,
      "outputs": [
        {
          "output_type": "stream",
          "text": [
            "median of marks is 7.0\n"
          ],
          "name": "stdout"
        }
      ]
    },
    {
      "cell_type": "code",
      "metadata": {
        "colab": {
          "base_uri": "https://localhost:8080/"
        },
        "id": "oVLLQcSxmzRa",
        "outputId": "18c2f85f-bcbc-47d2-d191-1e47252192a9"
      },
      "source": [
        "mode_of_marks = stats.mode(marks)\n",
        "print(\"mode of marks is \" + str(mode_of_marks))"
      ],
      "execution_count": 6,
      "outputs": [
        {
          "output_type": "stream",
          "text": [
            "mode of marks is ModeResult(mode=array([7]), count=array([5]))\n"
          ],
          "name": "stdout"
        }
      ]
    },
    {
      "cell_type": "code",
      "metadata": {
        "colab": {
          "base_uri": "https://localhost:8080/"
        },
        "id": "40tPEum7mzNh",
        "outputId": "bbca1745-8fe8-4a3d-cd34-d556000a7d44"
      },
      "source": [
        "standard_deviation = statistics.stdev(marks)\n",
        "print(\"standard deviation of marks is \" + str(standard_deviation))"
      ],
      "execution_count": 7,
      "outputs": [
        {
          "output_type": "stream",
          "text": [
            "standard deviation of marks is 1.6311119875071343\n"
          ],
          "name": "stdout"
        }
      ]
    },
    {
      "cell_type": "markdown",
      "metadata": {
        "id": "ykHFwaHC86HI"
      },
      "source": [
        "**Problem Statement 2:  \n",
        "The number of calls from motorists per day for roadside service was recorded for a  particular month: \n",
        "28, 122, 217, 130, 120, 86, 80, 90, 140, 120, 70, 40, 145, 113, 90, 68, 174, 194, 170,  100, 75, 104, 97, 75, 123, 100, 75, 104, 97, 75, 123, 100, 89, 120, 109**"
      ]
    },
    {
      "cell_type": "code",
      "metadata": {
        "id": "CtR_m8SnnAnm"
      },
      "source": [
        "calls = [ 28, 122, 217, 130, 120, 86, 80, 90, 140, 120, 70, 40, 145, 113, 90, 68, 174, 194, 170, 100, 75,\n",
        "         104, 97, 75, 123, 100, 75, 104, 97, 75, 123, 100, 89, 120, 109 ]"
      ],
      "execution_count": 9,
      "outputs": []
    },
    {
      "cell_type": "code",
      "metadata": {
        "id": "npAg6C439BuB",
        "colab": {
          "base_uri": "https://localhost:8080/"
        },
        "outputId": "b139705d-753a-4bdb-c0c6-ced5faaae75e"
      },
      "source": [
        "mean_calls = np.mean(calls)\n",
        "print(\"mean of calls is \" + str(mean_calls))"
      ],
      "execution_count": 10,
      "outputs": [
        {
          "output_type": "stream",
          "text": [
            "mean of calls is 107.51428571428572\n"
          ],
          "name": "stdout"
        }
      ]
    },
    {
      "cell_type": "code",
      "metadata": {
        "colab": {
          "base_uri": "https://localhost:8080/"
        },
        "id": "XGjT0a6qnAkz",
        "outputId": "cf2019b8-a8c9-44e5-c061-0f48efe386b2"
      },
      "source": [
        "median_of_calls = np.median(calls)\n",
        "print(\"median of calls is \" + str(median_of_calls))"
      ],
      "execution_count": 11,
      "outputs": [
        {
          "output_type": "stream",
          "text": [
            "median of calls is 100.0\n"
          ],
          "name": "stdout"
        }
      ]
    },
    {
      "cell_type": "code",
      "metadata": {
        "colab": {
          "base_uri": "https://localhost:8080/"
        },
        "id": "nma0uzQjnAiB",
        "outputId": "1536b98e-7d4b-4265-dbd9-0d5a1a13c0e2"
      },
      "source": [
        "mode_of_calls = stats.mode(calls)\n",
        "print(\"mode of marks is \" + str(mode_of_calls))"
      ],
      "execution_count": 12,
      "outputs": [
        {
          "output_type": "stream",
          "text": [
            "mode of marks is ModeResult(mode=array([75]), count=array([4]))\n"
          ],
          "name": "stdout"
        }
      ]
    },
    {
      "cell_type": "code",
      "metadata": {
        "colab": {
          "base_uri": "https://localhost:8080/"
        },
        "id": "1fU9YMDynAfk",
        "outputId": "455c722d-a83f-4d0d-e0f4-e4c4f60334da"
      },
      "source": [
        "standard_deviation = statistics.stdev(calls)\n",
        "print(\"standard deviation of calls is \" + str(standard_deviation))"
      ],
      "execution_count": 13,
      "outputs": [
        {
          "output_type": "stream",
          "text": [
            "standard deviation of calls is 39.33892805484412\n"
          ],
          "name": "stdout"
        }
      ]
    },
    {
      "cell_type": "markdown",
      "metadata": {
        "id": "Wyg0eHiL9kOq"
      },
      "source": [
        "**Problem Statement 3:  \n",
        "The number of times I go to the gym in weekdays, are given below along with its  associated probability: \n",
        "x = 0, 1, 2, 3, 4, 5 \n",
        "f(x) = 0.09, 0.15, 0.40, 0.25, 0.10, 0.01 \n",
        "Calculate the mean no. of workouts in a week. Also evaluate the variance involved in  it.**"
      ]
    },
    {
      "cell_type": "code",
      "metadata": {
        "id": "lVEHxvcT9mhe"
      },
      "source": [
        "x = np.asarray([0,1,2,3,4,5])\n",
        "f_x = np.array([0.09,0.15,0.40,0.25,0.10,0.01])"
      ],
      "execution_count": 14,
      "outputs": []
    },
    {
      "cell_type": "code",
      "metadata": {
        "colab": {
          "base_uri": "https://localhost:8080/"
        },
        "id": "2TDLn0D2oS48",
        "outputId": "da09ebc5-d399-43c5-d1ff-7f234f5ab66d"
      },
      "source": [
        "mean=np.dot(x,f_x)\n",
        "variance_of_x=(x-mean)**2\n",
        "variance = np.dot(variance_of_x,f_x)\n",
        "print(f\"Mean no. of workouts: {mean}\")\n",
        "print(f\"Variance of workouts: {variance}\")"
      ],
      "execution_count": 15,
      "outputs": [
        {
          "output_type": "stream",
          "text": [
            "Mean no. of workouts: 2.15\n",
            "Variance of workouts: 1.2275\n"
          ],
          "name": "stdout"
        }
      ]
    },
    {
      "cell_type": "markdown",
      "metadata": {
        "id": "f7PmPBXd9mxE"
      },
      "source": [
        "**Problem Statement 4: \n",
        "Let the continuous random variable D denote the diameter of the hole drilled in an  aluminum sheet. The target diameter to be achieved is 12.5mm. Random  disturbances in the process often result in inaccuracy. \n",
        "Historical data shows that the distribution of D can be modelled by the PDF (d) = 20e−20(d−12.5), d ≥ 12.5. If a part with diameter > 12.6 mm needs to be scrapped,  what is the proportion of those parts? What is the CDF when the diameter is of 11  mm? What is your conclusion regarding the proportion of scraps?**"
      ]
    },
    {
      "cell_type": "code",
      "metadata": {
        "id": "4zpo9kig9wJV",
        "colab": {
          "base_uri": "https://localhost:8080/"
        },
        "outputId": "033814f1-3047-41d4-f301-9e0d66d411d6"
      },
      "source": [
        "PDF=lambda d:20*(np.exp((-20*(d-12.5))))\n",
        "x = 12.6\n",
        "P_x=integrate.quad(PDF,12.6,np.inf)\n",
        "y = 11\n",
        "CDF=integrate.quad(PDF,-np.inf,y)\n",
        "print(f\"Proportion of Parts need to scrapped when d >12.6mm is :{P_x[0]}\")\n",
        "print(f\"CDF when d= 11mm is:{CDF[0]}\")\n",
        "print(f\"Proportion of CDF when d>12.5mm is : {integrate.quad(PDF,12.5,np.inf)[0]}\")"
      ],
      "execution_count": 17,
      "outputs": [
        {
          "output_type": "stream",
          "text": [
            "Proportion of Parts need to scrapped when d >12.6mm is :0.13533528323661398\n",
            "CDF when d= 11mm is:inf\n",
            "Proportion of CDF when d>12.5mm is : 1.0000000000000024\n"
          ],
          "name": "stdout"
        },
        {
          "output_type": "stream",
          "text": [
            "/usr/local/lib/python3.7/dist-packages/ipykernel_launcher.py:1: RuntimeWarning: overflow encountered in exp\n",
            "  \"\"\"Entry point for launching an IPython kernel.\n"
          ],
          "name": "stderr"
        }
      ]
    },
    {
      "cell_type": "markdown",
      "metadata": {
        "id": "0XniQHLw9wU0"
      },
      "source": [
        "**Problem Statement 5:  \n",
        "A company manufactures LED bulbs with a faulty rate of 30%. If I randomly select 6  chosen LEDs, what is the probability of having 2 faulty LEDs in my sample?  Calculate the average value of this process. Also evaluate the standard deviation  associated with it.**"
      ]
    },
    {
      "cell_type": "code",
      "metadata": {
        "colab": {
          "base_uri": "https://localhost:8080/"
        },
        "id": "CPtZrnRnpJfH",
        "outputId": "96353194-eac0-4328-bfc2-ff31b42fdadf"
      },
      "source": [
        "x = 0.3\n",
        "y = 0.7\n",
        "df=pd.DataFrame({'a':[int(i) for i in range(7)],\n",
        "                 'B_a':[scipy.special.comb(6,i)*(x**i)*(y**(6-i)) for i in range(7)]})\n",
        "print(df.iloc[2])"
      ],
      "execution_count": 19,
      "outputs": [
        {
          "output_type": "stream",
          "text": [
            "a      2.000000\n",
            "B_a    0.324135\n",
            "Name: 2, dtype: float64\n"
          ],
          "name": "stdout"
        }
      ]
    },
    {
      "cell_type": "code",
      "metadata": {
        "colab": {
          "base_uri": "https://localhost:8080/"
        },
        "id": "WZnqJ7fVpJKO",
        "outputId": "06a66a9e-9ea7-4f5d-b979-9745da7ea918"
      },
      "source": [
        "df['Expected value']=df['a']*df['B_a']\n",
        "mean=np.round(df['Expected value'].sum())\n",
        "print('mean = {}'.format(mean))\n",
        "df['variance']=df['B_a']*(df['a']-mean)**2\n",
        "std=np.sqrt(df['variance'].sum())\n",
        "print(f\"Standard Deviation : {np.round(std)}\")"
      ],
      "execution_count": 20,
      "outputs": [
        {
          "output_type": "stream",
          "text": [
            "mean = 2.0\n",
            "Standard Deviation : 1.0\n"
          ],
          "name": "stdout"
        }
      ]
    },
    {
      "cell_type": "markdown",
      "metadata": {
        "id": "3XufjSKy90eG"
      },
      "source": [
        "**Problem Statement 6:\n",
        "Gaurav and Barakha are both preparing for entrance exams. Gaurav attempts to  solve 8 questions per day with a correction rate of 75%, while Barakha averages  around 12 questions per day with a correction rate of 45%. What is the probability  that each of them will solve 5 questions correctly? What happens in cases of 4 and 6  correct solutions? What do you infer from it? What are the two main governing  factors affecting their ability to solve questions correctly? Give a pictorial  representation of the same to validate your answer.**"
      ]
    },
    {
      "cell_type": "code",
      "metadata": {
        "colab": {
          "base_uri": "https://localhost:8080/"
        },
        "id": "HWqJa2IFsU-g",
        "outputId": "2f15498c-7be1-43b0-b4a7-bf19a0e8d4a5"
      },
      "source": [
        "print(f\"Probability of each of them solving 5 questions correctly is:{binom.pmf(5,8,0.75)*binom.pmf(5,12,0.45)}\")\n",
        "print(f\"Probability of each of them solving 4,6 questions correctly is:{binom.pmf(4,8,0.75)*binom.pmf(6,12,0.45)}\")\n",
        "#their correction rates effect their combined probability"
      ],
      "execution_count": 22,
      "outputs": [
        {
          "output_type": "stream",
          "text": [
            "Probability of each of them solving 5 questions correctly is:0.04619989057299217\n",
            "Probability of each of them solving 4,6 questions correctly is:0.018374956477894583\n"
          ],
          "name": "stdout"
        }
      ]
    },
    {
      "cell_type": "code",
      "metadata": {
        "id": "dbwppmXdsU7p"
      },
      "source": [
        "def binom_plot(n,p,):\n",
        "    fig,ax=plt.subplots(1,1)\n",
        "    x = np.arange(binom.ppf(0.01, n, p),binom.ppf(0.99, n, p))\n",
        "    ax.plot(x, binom.pmf(x, n, p), 'bo', ms=8, label='binom pmf')\n",
        "    ax.vlines(x, 0, binom.pmf(x, n, p), colors='b', lw=5, alpha=0.5)"
      ],
      "execution_count": 23,
      "outputs": []
    },
    {
      "cell_type": "code",
      "metadata": {
        "colab": {
          "base_uri": "https://localhost:8080/",
          "height": 265
        },
        "id": "gocWrjzfsU1h",
        "outputId": "95d8982b-d09f-4d66-8c95-bd69c60d6bb6"
      },
      "source": [
        "binom_plot( 8 ,0.75) #Gaurav"
      ],
      "execution_count": 24,
      "outputs": [
        {
          "output_type": "display_data",
          "data": {
            "image/png": "[encoded data removed]",
            "text/plain": [
              "<Figure size 432x288 with 1 Axes>"
            ]
          },
          "metadata": {
            "tags": [],
            "needs_background": "light"
          }
        }
      ]
    },
    {
      "cell_type": "code",
      "metadata": {
        "id": "7Y9vubuJ94_-",
        "colab": {
          "base_uri": "https://localhost:8080/",
          "height": 265
        },
        "outputId": "05e756a2-c66c-4876-f5b9-591885d04da6"
      },
      "source": [
        "binom_plot(12,0.45) #Barkha"
      ],
      "execution_count": 25,
      "outputs": [
        {
          "output_type": "display_data",
          "data": {
            "image/png": "[encoded data removed]",
            "text/plain": [
              "<Figure size 432x288 with 1 Axes>"
            ]
          },
          "metadata": {
            "tags": [],
            "needs_background": "light"
          }
        }
      ]
    },
    {
      "cell_type": "code",
      "metadata": {
        "colab": {
          "base_uri": "https://localhost:8080/",
          "height": 282
        },
        "id": "iBtG4a5FsxwT",
        "outputId": "6cae3ef2-1103-49b8-d553-ef1873caccd1"
      },
      "source": [
        "fig,ax=plt.subplots(1,1)\n",
        "x = np.arange(1,11)\n",
        "ax.plot(x, binom.pmf(x,8,0.75)*binom.pmf(x,12,0.45), 'bo', ms=8, label='binom pmf')\n",
        "ax.vlines(x, 0, binom.pmf(x,8,0.75)*binom.pmf(x,12,0.45), colors='b', lw=5, alpha=0.5)\n",
        "#maximum combined probability observed at 6 question"
      ],
      "execution_count": 26,
      "outputs": [
        {
          "output_type": "execute_result",
          "data": {
            "text/plain": [
              "<matplotlib.collections.LineCollection at 0x7f9da5b10f90>"
            ]
          },
          "metadata": {
            "tags": []
          },
          "execution_count": 26
        },
        {
          "output_type": "display_data",
          "data": {
            "image/png": "[encoded data removed]",
            "text/plain": [
              "<Figure size 432x288 with 1 Axes>"
            ]
          },
          "metadata": {
            "tags": [],
            "needs_background": "light"
          }
        }
      ]
    },
    {
      "cell_type": "code",
      "metadata": {
        "colab": {
          "base_uri": "https://localhost:8080/"
        },
        "id": "ZigopM-Ksxh0",
        "outputId": "1a8f0aa0-e37b-4f73-e90a-f2dc822b8643"
      },
      "source": [
        "binom.pmf(5,8,0.75)*binom.pmf(5,12,0.45)"
      ],
      "execution_count": 27,
      "outputs": [
        {
          "output_type": "execute_result",
          "data": {
            "text/plain": [
              "0.04619989057299217"
            ]
          },
          "metadata": {
            "tags": []
          },
          "execution_count": 27
        }
      ]
    },
    {
      "cell_type": "markdown",
      "metadata": {
        "id": "ncdBU7AS95T2"
      },
      "source": [
        "**Problem Statement 7: \n",
        "Customers arrive at a rate of 72 per hour to my shop. What is the probability of �� customers arriving in 4 minutes? a) 5 customers, b) not more than 3 customers, c)  more than 3 customers. Give a pictorial representation of the same to validate your  answer.**"
      ]
    },
    {
      "cell_type": "code",
      "metadata": {
        "colab": {
          "base_uri": "https://localhost:8080/"
        },
        "id": "h0B0voCQtC4c",
        "outputId": "26364800-ca21-4c76-88b2-6fe83b3919de"
      },
      "source": [
        "#We need to calculate average number of customers arriving per 4 minutes\n",
        "#72/60 customers come per minute\n",
        "mu = 4*(72/60) #customers come per 4 minutes\n",
        "print(f\"The probability of arriving 5 cutomers in 4 minutes is : {poisson.pmf(k=5,mu=mu)}\")\n",
        "print(f\"The probability of arriving not more than 3 customers in 4 minutes is : {poisson.pmf(k=3, mu=mu)}\")\n",
        "print(f'The Probability of more than 3 customers arriving in 4 minutes is : {1-poisson.cdf(k=3,mu=mu)}')"
      ],
      "execution_count": 29,
      "outputs": [
        {
          "output_type": "stream",
          "text": [
            "The probability of arriving 5 cutomers in 4 minutes is : 0.17474768364388296\n",
            "The probability of arriving not more than 3 customers in 4 minutes is : 0.15169069760753714\n",
            "The Probability of more than 3 customers arriving in 4 minutes is : 0.7057700835034357\n"
          ],
          "name": "stdout"
        }
      ]
    },
    {
      "cell_type": "code",
      "metadata": {
        "colab": {
          "base_uri": "https://localhost:8080/",
          "height": 351
        },
        "id": "JnJylWNBtC1x",
        "outputId": "f30b899b-2249-4907-9f80-b80eeea3de3c"
      },
      "source": [
        "x = list(range(0,10))\n",
        "fig,ax = plt.subplots(figsize=(10,5))\n",
        "ax.plot(x, poisson.pmf(x,mu), 'bo', ms=8, label='poisson pmf')\n",
        "ax.vlines(x, 0, poisson.pmf(x, mu), colors='b', lw=5, alpha=0.5)\n",
        "plt.xlabel('Number of customers')\n",
        "plt.ylabel('Probability')"
      ],
      "execution_count": 30,
      "outputs": [
        {
          "output_type": "execute_result",
          "data": {
            "text/plain": [
              "Text(0, 0.5, 'Probability')"
            ]
          },
          "metadata": {
            "tags": []
          },
          "execution_count": 30
        },
        {
          "output_type": "display_data",
          "data": {
            "image/png": "[encoded data removed]",
            "text/plain": [
              "<Figure size 720x360 with 1 Axes>"
            ]
          },
          "metadata": {
            "tags": [],
            "needs_background": "light"
          }
        }
      ]
    },
    {
      "cell_type": "markdown",
      "metadata": {
        "id": "Y12NdfOI9-bu"
      },
      "source": [
        "**Problem Statement 8: \n",
        "I work as a data analyst in Aeon Learning Pvt. Ltd. After analyzing data, I make  reports, where I have the efficiency of entering 77 words per minute with 6 errors per  hour. What is the probability that I will commit 2 errors in a 455-word financial report? What happens when the no. of words increases/decreases (in case of 1000 words,  255 words)?  \n",
        "How is the �� affected? \n",
        "How does it influence the PMF?  \n",
        "Give a pictorial representation of the same to validate your answer.**"
      ]
    },
    {
      "cell_type": "code",
      "metadata": {
        "colab": {
          "base_uri": "https://localhost:8080/",
          "height": 388
        },
        "id": "dRa937JBtMdl",
        "outputId": "55436be0-2fe8-45d6-94bf-1367e73f1d2a"
      },
      "source": [
        "#Rate of entering=77 per minute\n",
        "#error rate= 6/hour=0.1 per minute\n",
        "#No of errors per word=0.1/77\n",
        "unit_mu=0.1/77\n",
        "def mu(n):\n",
        "    return n * unit_mu\n",
        "print(f\"The pobability of commiting 2 errors in 455 words financial report is :{poisson.pmf(2,mu=mu(455))}\")\n",
        "print(f\"The pobability of commiting 2 errors in 1000 words financial report is :{poisson.pmf(2,mu=mu(1000))}\")\n",
        "print(f\"The pobability of commiting 2 errors in 255 words financial report is :{poisson.pmf(2,mu=mu(255))}\")\n",
        "x=range(100,1000,50)\n",
        "mu=[i*unit_mu for i in x]\n",
        "fig,ax = plt.subplots(1,1,figsize=(15,5))\n",
        "ax.plot(x,poisson.pmf(2,mu), 'bo', ms=8, label='poisson pmf')\n",
        "ax.vlines(x,0, poisson.pmf(2,mu), colors='b', lw=5, alpha=0.5)\n",
        "#As the number of words increase probability of getting errors increases"
      ],
      "execution_count": 31,
      "outputs": [
        {
          "output_type": "stream",
          "text": [
            "The pobability of commiting 2 errors in 455 words financial report is :0.09669027375144444\n",
            "The pobability of commiting 2 errors in 1000 words financial report is :0.23012815007300153\n",
            "The pobability of commiting 2 errors in 255 words financial report is :0.039377135392854104\n"
          ],
          "name": "stdout"
        },
        {
          "output_type": "execute_result",
          "data": {
            "text/plain": [
              "<matplotlib.collections.LineCollection at 0x7f9da5a81810>"
            ]
          },
          "metadata": {
            "tags": []
          },
          "execution_count": 31
        },
        {
          "output_type": "display_data",
          "data": {
            "image/png": "[encoded data removed]",
            "text/plain": [
              "<Figure size 1080x360 with 1 Axes>"
            ]
          },
          "metadata": {
            "tags": [],
            "needs_background": "light"
          }
        }
      ]
    },
    {
      "cell_type": "code",
      "metadata": {
        "colab": {
          "base_uri": "https://localhost:8080/",
          "height": 337
        },
        "id": "hojMzSJLtMUa",
        "outputId": "7c4bd66a-0f0e-445c-95f8-96aff67e7e5e"
      },
      "source": [
        "fig,ax = plt.subplots(1,1,figsize=(15,5))\n",
        "ax.plot(x,mu, 'bo', ms=8, label='poisson pmf')\n",
        "ax.vlines(x,0,mu, colors='b', lw=5, alpha=0.5)\n",
        "#Value of mu keeps on increasing with number of words"
      ],
      "execution_count": 32,
      "outputs": [
        {
          "output_type": "execute_result",
          "data": {
            "text/plain": [
              "<matplotlib.collections.LineCollection at 0x7f9da6c67b10>"
            ]
          },
          "metadata": {
            "tags": []
          },
          "execution_count": 32
        },
        {
          "output_type": "display_data",
          "data": {
            "image/png": "[encoded data removed]",
            "text/plain": [
              "<Figure size 1080x360 with 1 Axes>"
            ]
          },
          "metadata": {
            "tags": [],
            "needs_background": "light"
          }
        }
      ]
    },
    {
      "cell_type": "code",
      "metadata": {
        "id": "cflYpeig-DMB",
        "colab": {
          "base_uri": "https://localhost:8080/",
          "height": 337
        },
        "outputId": "6bf74806-8458-4852-bf09-fe3b9a9052b2"
      },
      "source": [
        "fig,ax = plt.subplots(1,1,figsize=(15,5))\n",
        "ax.plot(x,mu, 'bo', ms=8, label='poisson pmf')\n",
        "ax.vlines(x,0,mu, colors='b', lw=5, alpha=0.5)\n",
        "#Value of mu keeps on increasing with number of words"
      ],
      "execution_count": 33,
      "outputs": [
        {
          "output_type": "execute_result",
          "data": {
            "text/plain": [
              "<matplotlib.collections.LineCollection at 0x7f9da6085a50>"
            ]
          },
          "metadata": {
            "tags": []
          },
          "execution_count": 33
        },
        {
          "output_type": "display_data",
          "data": {
            "image/png": "[encoded data removed]",
            "text/plain": [
              "<Figure size 1080x360 with 1 Axes>"
            ]
          },
          "metadata": {
            "tags": [],
            "needs_background": "light"
          }
        }
      ]
    },
    {
      "cell_type": "markdown",
      "metadata": {
        "id": "IXfzbxiz-DVZ"
      },
      "source": [
        "**Problem Statement 9: \n",
        "Let the continuous random variable D denote the diameter of the hole drilled in an  aluminum sheet. The target diameter to be achieved is 12.5mm. Random  disturbances in the process often result in inaccuracy. \n",
        "Historical data shows that the distribution of D can be modelled by the PDF, f(d) =  20e−20(d−12.5), d ≥ 12.5. If a part with diameter > 12.6 mm needs to be scrapped,  what is the proportion of those parts? What is the CDF when the diameter is of 11  mm? \n",
        "What is the conclusion of this experiment?**"
      ]
    },
    {
      "cell_type": "code",
      "metadata": {
        "id": "rSTSudnh-Hap",
        "colab": {
          "base_uri": "https://localhost:8080/"
        },
        "outputId": "3cac9749-a595-48f6-f7c2-e885802f2ba6"
      },
      "source": [
        "PDF=lambda d:20*(np.exp((-20*(d-12.5))))\n",
        "x = 12.6\n",
        "P_x=integrate.quad(PDF,12.6,np.inf)\n",
        "y = 11\n",
        "CDF=integrate.quad(PDF,-np.inf,y)\n",
        "print(f\"Proportion of Parts need to scrapped when d >12.6mm is :{P_x[0]}\")\n",
        "print(f\"CDF when d= 11mm is:{CDF[0]}\")\n",
        "print(f\"Proportion of CDF when d>12.5mm is : {integrate.quad(PDF,12.5,np.inf)[0]}\")"
      ],
      "execution_count": 34,
      "outputs": [
        {
          "output_type": "stream",
          "text": [
            "Proportion of Parts need to scrapped when d >12.6mm is :0.13533528323661398\n",
            "CDF when d= 11mm is:inf\n",
            "Proportion of CDF when d>12.5mm is : 1.0000000000000024\n"
          ],
          "name": "stdout"
        },
        {
          "output_type": "stream",
          "text": [
            "/usr/local/lib/python3.7/dist-packages/ipykernel_launcher.py:1: RuntimeWarning: overflow encountered in exp\n",
            "  \"\"\"Entry point for launching an IPython kernel.\n"
          ],
          "name": "stderr"
        }
      ]
    },
    {
      "cell_type": "markdown",
      "metadata": {
        "id": "AbrgJbJ5-Hlg"
      },
      "source": [
        "**Problem Statement 10:\n",
        "Please compute the following: a) P(Z > 1.26), . P(Z < −0.86), P(Z > −1.37), P(−1.25 < Z < 0.37), . P(Z ≤ −4.6) b) Find the value 𝑧 such that 𝑃(𝑍 > 𝑧) = 0.05 c) Find the value of 𝑧 such that 𝑃(−𝑧 < 𝑍 < 𝑧) = 0.99**"
      ]
    },
    {
      "cell_type": "code",
      "metadata": {
        "colab": {
          "base_uri": "https://localhost:8080/"
        },
        "id": "h0Pz08WsuJkm",
        "outputId": "8863042c-8d08-4c09-ec9f-e57cbd0289ac"
      },
      "source": [
        "def P(z,b=-np.inf) :\n",
        "    return integrate.quad(norm.pdf,b,z)[0]\n",
        "\n",
        "print('P(Z>1.26) = %.5f'%(1-P(1.26)))\n",
        "print('P(Z<-0.86) = %.5f'%P(-0.86))\n",
        "print('P(Z>-1.37) = %.5f'%(1-P(-1.37)))\n",
        "print('P(−1.25 < Z < 0.37) = %.5f'%P(0.37,b=-1.25))\n",
        "print('P(Z ≤ −4.6) = %.5f'%P(-4.6))"
      ],
      "execution_count": 36,
      "outputs": [
        {
          "output_type": "stream",
          "text": [
            "P(Z>1.26) = 0.10383\n",
            "P(Z<-0.86) = 0.19489\n",
            "P(Z>-1.37) = 0.91466\n",
            "P(−1.25 < Z < 0.37) = 0.53866\n",
            "P(Z ≤ −4.6) = 0.00000\n"
          ],
          "name": "stdout"
        }
      ]
    },
    {
      "cell_type": "code",
      "metadata": {
        "colab": {
          "base_uri": "https://localhost:8080/"
        },
        "id": "ZL-baXGjuJX0",
        "outputId": "c72e11a5-9667-418f-8e2f-6b61bd7760d5"
      },
      "source": [
        "print('P(Z>z)=0.05 is %.2f'%(-1*norm.ppf(0.05)))\n",
        "print('𝑃(−𝑧 < 𝑍 < 𝑧) = 0.99 is %.2f'%(abs(norm.ppf(0.005))))"
      ],
      "execution_count": 37,
      "outputs": [
        {
          "output_type": "stream",
          "text": [
            "P(Z>z)=0.05 is 1.64\n",
            "𝑃(−𝑧 < 𝑍 < 𝑧) = 0.99 is 2.58\n"
          ],
          "name": "stdout"
        }
      ]
    },
    {
      "cell_type": "markdown",
      "metadata": {
        "id": "IAgPEsk2-LxD"
      },
      "source": [
        "**Problem Statement 11: \n",
        "The current flow in a copper wire follow a normal distribution with a mean of 10 𝑚A and a variance of 4 (𝑚𝐴)2. What is the probability that a current measurement will exceed 13 𝑚𝐴? What is the probability that a current measurement is between 9 and 11mA? Determine the current measurement which has a probability of 0.98.**"
      ]
    },
    {
      "cell_type": "code",
      "metadata": {
        "id": "pKiYKLB9-O-b",
        "colab": {
          "base_uri": "https://localhost:8080/"
        },
        "outputId": "57561315-99c7-4c71-e96e-805f3069ea62"
      },
      "source": [
        "mean = 10\n",
        "std = np.sqrt(4)\n",
        "\n",
        "def I(z, b=-np.inf):\n",
        "    z = (z-mean)/std\n",
        "    return integrate.quad(norm.pdf,b,z)[0]\n",
        "print(f\"Probability that current > 13mA is: {1-I(13)}\")\n",
        "print(f\"Probability that current is between 9 mA and 11 mA is : {1-I(11,b=9)}\")"
      ],
      "execution_count": 38,
      "outputs": [
        {
          "output_type": "stream",
          "text": [
            "Probability that current > 13mA is: 0.06680720126885797\n",
            "Probability that current is between 9 mA and 11 mA is : 1.3085375387259144\n"
          ],
          "name": "stdout"
        }
      ]
    },
    {
      "cell_type": "markdown",
      "metadata": {
        "id": "kcfoxJfK-PHg"
      },
      "source": [
        "**Problem Statement 12: \n",
        "The shaft in a piston has its diameter normally distributed with a mean of 0.2508 inch  and a standard deviation of 0.0005 inch. The specifications of the shaft are 0.2500 ∓ 0.0015 inch. What proportion of shafts are in sync with the specifications? If the  process is centered so that the mean is equal to the target value of 0.2500, what  proportion of shafts conform to the new specifications? What is your conclusion from  this experiment?**"
      ]
    },
    {
      "cell_type": "code",
      "metadata": {
        "id": "HaFA09ru-SSD",
        "colab": {
          "base_uri": "https://localhost:8080/"
        },
        "outputId": "15b02e2a-cfc9-4283-91a1-adbadb05a949"
      },
      "source": [
        "mean_dia=0.2508\n",
        "std_dia=0.0005\n",
        "#specified dia in the range of 0.2485<d<0.2515\n",
        "#case-1 if mean_dia=0.2508\n",
        "def I(mean,std,a,b) :\n",
        "  #gives P(Z<=x)\n",
        "  a=(a-mean)/std\n",
        "  b=(b-mean)/std\n",
        "print(f\"Proportion of shafts with dia in range of 0.2485<d<0.2515 when mean diameter:{0.2508,I(0.2508,0.0005,0.2485,0.2515)}\")\n",
        "print(f\"Proportion of shafts with dia in range of 0.2485<d<0.2515 when mean diameter:{0.2500,I(0.2500,0.0005,0.2485,0.2515)}\")"
      ],
      "execution_count": 39,
      "outputs": [
        {
          "output_type": "stream",
          "text": [
            "Proportion of shafts with dia in range of 0.2485<d<0.2515 when mean diameter:(0.2508, None)\n",
            "Proportion of shafts with dia in range of 0.2485<d<0.2515 when mean diameter:(0.25, None)\n"
          ],
          "name": "stdout"
        }
      ]
    }
  ]
}