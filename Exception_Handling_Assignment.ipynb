{
  "nbformat": 4,
  "nbformat_minor": 0,
  "metadata": {
    "colab": {
      "name": "Exception Handling Assignment.ipynb",
      "provenance": [],
      "collapsed_sections": [],
      "authorship_tag": "ABX9TyOufFRT77Ruyv6xMcDDBx0F",
      "include_colab_link": true
    },
    "kernelspec": {
      "name": "python3",
      "display_name": "Python 3"
    }
  },
  "cells": [
    {
      "cell_type": "markdown",
      "metadata": {
        "id": "view-in-github",
        "colab_type": "text"
      },
      "source": [
        "<a href=\"https://colab.research.google.com/github/Pawansansanwal/Assignment/blob/master/Exception_Handling_Assignment.ipynb\" target=\"_parent\"><img src=\"https://colab.research.google.com/assets/colab-badge.svg\" alt=\"Open In Colab\"/></a>"
      ]
    },
    {
      "cell_type": "markdown",
      "metadata": {
        "id": "4HorMZ1JKmBi"
      },
      "source": [
        "Q.1 Implement a Python program to generate all sentences where subject is in  [\"Americans\", \"Indians\"] and verb is in [\"Play\", \"watch\"] and the object is in  [\"Baseball\",\"cricket\"]"
      ]
    },
    {
      "cell_type": "code",
      "metadata": {
        "id": "VUfdIQZRKWKF",
        "outputId": "d5f79a12-a139-4b54-b2b0-1a4acc1e793d",
        "colab": {
          "base_uri": "https://localhost:8080/",
          "height": 153
        }
      },
      "source": [
        "Subject = [\"Americans\", \"Indians\"]\n",
        "Verb = [\"Play\",\"Watch\"]\n",
        "Objects = [\"Baseball\", \"Cricket\"]\n",
        "\n",
        "for i in Subject:\n",
        "  for j in Verb:\n",
        "    for k in Objects:\n",
        "      print (i+\" \"+j+\" \"+k)"
      ],
      "execution_count": 7,
      "outputs": [
        {
          "output_type": "stream",
          "text": [
            "Americans Play Baseball\n",
            "Americans Play Cricket\n",
            "Americans Watch Baseball\n",
            "Americans Watch Cricket\n",
            "Indians Play Baseball\n",
            "Indians Play Cricket\n",
            "Indians Watch Baseball\n",
            "Indians Watch Cricket\n"
          ],
          "name": "stdout"
        }
      ]
    },
    {
      "cell_type": "markdown",
      "metadata": {
        "id": "caL4LHjaNUPM"
      },
      "source": [
        " Write a function to compute 5/0 and use try/except to catch the exceptions. \n"
      ]
    },
    {
      "cell_type": "code",
      "metadata": {
        "id": "H0b3OYN5KcYn",
        "outputId": "4c5f555d-1353-4934-df92-2c27dde32d92",
        "colab": {
          "base_uri": "https://localhost:8080/",
          "height": 34
        }
      },
      "source": [
        "try:\n",
        "  5/0\n",
        "except:\n",
        "  print('Zero does not divisible to any  number')"
      ],
      "execution_count": 9,
      "outputs": [
        {
          "output_type": "stream",
          "text": [
            "Zero does not divisible to any  number\n"
          ],
          "name": "stdout"
        }
      ]
    }
  ]
}