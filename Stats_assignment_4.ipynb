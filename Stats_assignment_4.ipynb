{
  "nbformat": 4,
  "nbformat_minor": 0,
  "metadata": {
    "colab": {
      "name": "Stats assignment 4.ipynb",
      "provenance": [],
      "authorship_tag": "ABX9TyO9gsqYjO6M5GajNmjxrfXz",
      "include_colab_link": true
    },
    "kernelspec": {
      "name": "python3",
      "display_name": "Python 3"
    },
    "language_info": {
      "name": "python"
    }
  },
  "cells": [
    {
      "cell_type": "markdown",
      "metadata": {
        "id": "view-in-github",
        "colab_type": "text"
      },
      "source": [
        "<a href=\"https://colab.research.google.com/github/Pawansansanwal/Assignment/blob/master/Stats_assignment_4.ipynb\" target=\"_parent\"><img src=\"https://colab.research.google.com/assets/colab-badge.svg\" alt=\"Open In Colab\"/></a>"
      ]
    },
    {
      "cell_type": "code",
      "metadata": {
        "id": "-uLWS3MVjo-I"
      },
      "source": [
        "import scipy.stats as sts\n",
        "from scipy.stats import norm\n",
        "import math\n",
        "import numpy as np\n",
        "import pandas as pd"
      ],
      "execution_count": 1,
      "outputs": []
    },
    {
      "cell_type": "markdown",
      "metadata": {
        "id": "afjrcSq-jrJS"
      },
      "source": [
        "**Problem Statement 1**\n",
        "Is gender independent of education level? A random sample of 395 people were surveyed and each person was asked to report the highest education level they obtained. The data that resulted from the survey is summarized in the following table:\n",
        "\n",
        "High School Bachelors Masters Ph.d. Total Female 60 54 46 41 201 Male 40 44 53 57 194 Total 100 98 99 98 395\n",
        "\n",
        "Question: Are gender and education level dependent at 5% level of significance? In other words, given the data collected above, is there a relationship between the gender of an individual and the level of education that they have obtained?\n",
        "\n"
      ]
    },
    {
      "cell_type": "code",
      "metadata": {
        "colab": {
          "base_uri": "https://localhost:8080/"
        },
        "id": "l-7UQVoQj_hv",
        "outputId": "cbb7ee13-8fa0-48fb-a22a-fa1eb9324b6e"
      },
      "source": [
        "f_list = [60,54,46,41]\n",
        "m_list = [40,44,53,57]\n",
        "s = [40,60]\n",
        "b = [44,54]\n",
        "m = [53,46]\n",
        "p = [57,41]\n",
        "marks = m_list + f_list\n",
        "print(marks)\n",
        "sex =  ['Male','Male','Male','Male','Female','Female','Female','Female']\n",
        "edu = ['High School', 'Bachelors', 'Masters', 'Ph.d.','High School', 'Bachelors', 'Masters', 'Ph.d.']\n",
        "df_edu = pd.DataFrame({\"Sex\":sex,\"Edu\":edu,\"Marks\":marks})\n",
        "\n",
        "#df_edu = df_edu[['Sex','High School', 'Bachelors', 'Masters', 'Ph.d.']]\n",
        "\n",
        "#df_edu['Row_total'] = row_list\n",
        "print(df_edu)\n",
        "cross_tab = pd.crosstab([df_edu.Sex,df_edu.Marks],df_edu.Edu,margins=True)"
      ],
      "execution_count": 2,
      "outputs": [
        {
          "output_type": "stream",
          "text": [
            "[40, 44, 53, 57, 60, 54, 46, 41]\n",
            "      Sex          Edu  Marks\n",
            "0    Male  High School     40\n",
            "1    Male    Bachelors     44\n",
            "2    Male      Masters     53\n",
            "3    Male        Ph.d.     57\n",
            "4  Female  High School     60\n",
            "5  Female    Bachelors     54\n",
            "6  Female      Masters     46\n",
            "7  Female        Ph.d.     41\n"
          ],
          "name": "stdout"
        }
      ]
    },
    {
      "cell_type": "code",
      "metadata": {
        "colab": {
          "base_uri": "https://localhost:8080/",
          "height": 136
        },
        "id": "MLCL0SuHkfZk",
        "outputId": "39328e45-8af7-44e3-f3d9-50859769e7de"
      },
      "source": [
        "df2 = pd.crosstab(df_edu.Sex, df_edu.Edu,df_edu.Marks, aggfunc=\"sum\",margins=True)\n",
        "\n",
        "df2.columns = [\"Bachelors\",\"High School\",\"Masters\",\"Ph.d.\",\"row_totals\"]\n",
        "\n",
        "df2.index = [\"Female\",\"Male\",\"col_totals\"]\n",
        "\n",
        "df2"
      ],
      "execution_count": 3,
      "outputs": [
        {
          "output_type": "execute_result",
          "data": {
            "text/html": [
              "<div>\n",
              "<style scoped>\n",
              "    .dataframe tbody tr th:only-of-type {\n",
              "        vertical-align: middle;\n",
              "    }\n",
              "\n",
              "    .dataframe tbody tr th {\n",
              "        vertical-align: top;\n",
              "    }\n",
              "\n",
              "    .dataframe thead th {\n",
              "        text-align: right;\n",
              "    }\n",
              "</style>\n",
              "<table border=\"1\" class=\"dataframe\">\n",
              "  <thead>\n",
              "    <tr style=\"text-align: right;\">\n",
              "      <th></th>\n",
              "      <th>Bachelors</th>\n",
              "      <th>High School</th>\n",
              "      <th>Masters</th>\n",
              "      <th>Ph.d.</th>\n",
              "      <th>row_totals</th>\n",
              "    </tr>\n",
              "  </thead>\n",
              "  <tbody>\n",
              "    <tr>\n",
              "      <th>Female</th>\n",
              "      <td>54</td>\n",
              "      <td>60</td>\n",
              "      <td>46</td>\n",
              "      <td>41</td>\n",
              "      <td>201</td>\n",
              "    </tr>\n",
              "    <tr>\n",
              "      <th>Male</th>\n",
              "      <td>44</td>\n",
              "      <td>40</td>\n",
              "      <td>53</td>\n",
              "      <td>57</td>\n",
              "      <td>194</td>\n",
              "    </tr>\n",
              "    <tr>\n",
              "      <th>col_totals</th>\n",
              "      <td>98</td>\n",
              "      <td>100</td>\n",
              "      <td>99</td>\n",
              "      <td>98</td>\n",
              "      <td>395</td>\n",
              "    </tr>\n",
              "  </tbody>\n",
              "</table>\n",
              "</div>"
            ],
            "text/plain": [
              "            Bachelors  High School  Masters  Ph.d.  row_totals\n",
              "Female             54           60       46     41         201\n",
              "Male               44           40       53     57         194\n",
              "col_totals         98          100       99     98         395"
            ]
          },
          "metadata": {
            "tags": []
          },
          "execution_count": 3
        }
      ]
    },
    {
      "cell_type": "code",
      "metadata": {
        "colab": {
          "base_uri": "https://localhost:8080/",
          "height": 106
        },
        "id": "U7bt_BFpkjOG",
        "outputId": "2cf27c4f-e54b-40c5-ae66-547951b9496f"
      },
      "source": [
        "observed = df2.iloc[0:2,0:4]   # Get table without totals for later use\n",
        "observed"
      ],
      "execution_count": 4,
      "outputs": [
        {
          "output_type": "execute_result",
          "data": {
            "text/html": [
              "<div>\n",
              "<style scoped>\n",
              "    .dataframe tbody tr th:only-of-type {\n",
              "        vertical-align: middle;\n",
              "    }\n",
              "\n",
              "    .dataframe tbody tr th {\n",
              "        vertical-align: top;\n",
              "    }\n",
              "\n",
              "    .dataframe thead th {\n",
              "        text-align: right;\n",
              "    }\n",
              "</style>\n",
              "<table border=\"1\" class=\"dataframe\">\n",
              "  <thead>\n",
              "    <tr style=\"text-align: right;\">\n",
              "      <th></th>\n",
              "      <th>Bachelors</th>\n",
              "      <th>High School</th>\n",
              "      <th>Masters</th>\n",
              "      <th>Ph.d.</th>\n",
              "    </tr>\n",
              "  </thead>\n",
              "  <tbody>\n",
              "    <tr>\n",
              "      <th>Female</th>\n",
              "      <td>54</td>\n",
              "      <td>60</td>\n",
              "      <td>46</td>\n",
              "      <td>41</td>\n",
              "    </tr>\n",
              "    <tr>\n",
              "      <th>Male</th>\n",
              "      <td>44</td>\n",
              "      <td>40</td>\n",
              "      <td>53</td>\n",
              "      <td>57</td>\n",
              "    </tr>\n",
              "  </tbody>\n",
              "</table>\n",
              "</div>"
            ],
            "text/plain": [
              "        Bachelors  High School  Masters  Ph.d.\n",
              "Female         54           60       46     41\n",
              "Male           44           40       53     57"
            ]
          },
          "metadata": {
            "tags": []
          },
          "execution_count": 4
        }
      ]
    },
    {
      "cell_type": "markdown",
      "metadata": {
        "id": "NtZyiVgiko4Z"
      },
      "source": [
        "For a test of independence, we use the same chi-squared formula that we used for the goodness-of-fit test. The main difference is we have to calculate the expected counts of each cell in a 2-dimensional table instead of a 1-dimensional table. To get the expected count for a cell, multiply the row total for that cell by the column total for that cell and then divide by the total number of observations. We can quickly get the expected counts for all cells in the table by taking the row totals and column totals of the table, performing an outer product on them with the np.outer() function and dividing by the number of observations:"
      ]
    },
    {
      "cell_type": "code",
      "metadata": {
        "colab": {
          "base_uri": "https://localhost:8080/",
          "height": 106
        },
        "id": "GgYufa1gklWT",
        "outputId": "f45679a9-e14f-4c0d-8421-629f17c5577e"
      },
      "source": [
        "expected =  np.outer(df2[\"row_totals\"][0:2],\n",
        "                     df2.loc[\"col_totals\"][0:4]) / 395.0\n",
        "expected = pd.DataFrame(expected)\n",
        "expected.columns = [\"Bachelors\",\"High School\",\"Masters\",\"Ph.d.\"]\n",
        "expected.index = [\"Female\",\"Male\"]\n",
        "expected"
      ],
      "execution_count": 5,
      "outputs": [
        {
          "output_type": "execute_result",
          "data": {
            "text/html": [
              "<div>\n",
              "<style scoped>\n",
              "    .dataframe tbody tr th:only-of-type {\n",
              "        vertical-align: middle;\n",
              "    }\n",
              "\n",
              "    .dataframe tbody tr th {\n",
              "        vertical-align: top;\n",
              "    }\n",
              "\n",
              "    .dataframe thead th {\n",
              "        text-align: right;\n",
              "    }\n",
              "</style>\n",
              "<table border=\"1\" class=\"dataframe\">\n",
              "  <thead>\n",
              "    <tr style=\"text-align: right;\">\n",
              "      <th></th>\n",
              "      <th>Bachelors</th>\n",
              "      <th>High School</th>\n",
              "      <th>Masters</th>\n",
              "      <th>Ph.d.</th>\n",
              "    </tr>\n",
              "  </thead>\n",
              "  <tbody>\n",
              "    <tr>\n",
              "      <th>Female</th>\n",
              "      <td>49.868354</td>\n",
              "      <td>50.886076</td>\n",
              "      <td>50.377215</td>\n",
              "      <td>49.868354</td>\n",
              "    </tr>\n",
              "    <tr>\n",
              "      <th>Male</th>\n",
              "      <td>48.131646</td>\n",
              "      <td>49.113924</td>\n",
              "      <td>48.622785</td>\n",
              "      <td>48.131646</td>\n",
              "    </tr>\n",
              "  </tbody>\n",
              "</table>\n",
              "</div>"
            ],
            "text/plain": [
              "        Bachelors  High School    Masters      Ph.d.\n",
              "Female  49.868354    50.886076  50.377215  49.868354\n",
              "Male    48.131646    49.113924  48.622785  48.131646"
            ]
          },
          "metadata": {
            "tags": []
          },
          "execution_count": 5
        }
      ]
    },
    {
      "cell_type": "markdown",
      "metadata": {
        "id": "XhHqXI6vkvjS"
      },
      "source": [
        "calculate the chi-square statistic, the critical value and the p-value:\n",
        "\n",
        "*Note: We call .sum() twice: once to get the column sums and a second time to add the column sums together, returning the sum of the entire 2D table."
      ]
    },
    {
      "cell_type": "code",
      "metadata": {
        "colab": {
          "base_uri": "https://localhost:8080/"
        },
        "id": "OHd4T3qVksIp",
        "outputId": "601a2ec6-98da-4bd5-9403-46ded902e145"
      },
      "source": [
        "chi_squared_stat = (((observed-expected)**2)/expected).sum().sum()\n",
        "\n",
        "print(chi_squared_stat)"
      ],
      "execution_count": 6,
      "outputs": [
        {
          "output_type": "stream",
          "text": [
            "8.006066246262538\n"
          ],
          "name": "stdout"
        }
      ]
    },
    {
      "cell_type": "markdown",
      "metadata": {
        "id": "nwQ07o82kzlB"
      },
      "source": [
        "*Note: The degrees of freedom for a test of independence equals the product of the number of categories in each variable minus 1. In this case we have a 2x4 table so df = 1x3 = 3."
      ]
    },
    {
      "cell_type": "code",
      "metadata": {
        "colab": {
          "base_uri": "https://localhost:8080/"
        },
        "id": "7nAiiQRqkyuK",
        "outputId": "22732b4a-cbed-44bd-b832-e782b8d75243"
      },
      "source": [
        "crit = sts.chi2.ppf(q = 0.95, # Find the critical value for 95% confidence*\n",
        "                      df = 3)   # *\n",
        "\n",
        "print(\"Critical value\")\n",
        "print(crit)\n",
        "\n",
        "p_value = 1 - sts.chi2.cdf(x=chi_squared_stat, df=3)  # Find the p-value\n",
        "                            \n",
        "print(\"P value\")\n",
        "print(p_value)"
      ],
      "execution_count": 7,
      "outputs": [
        {
          "output_type": "stream",
          "text": [
            "Critical value\n",
            "7.814727903251179\n",
            "P value\n",
            "0.04588650089174717\n"
          ],
          "name": "stdout"
        }
      ]
    },
    {
      "cell_type": "code",
      "metadata": {
        "colab": {
          "base_uri": "https://localhost:8080/"
        },
        "id": "og3x8Bn7k4Gl",
        "outputId": "dab947b5-add2-4614-feab-130bc91726ef"
      },
      "source": [
        "sts.chi2_contingency(observed= observed)"
      ],
      "execution_count": 8,
      "outputs": [
        {
          "output_type": "execute_result",
          "data": {
            "text/plain": [
              "(8.006066246262538,\n",
              " 0.045886500891747214,\n",
              " 3,\n",
              " array([[49.86835443, 50.88607595, 50.37721519, 49.86835443],\n",
              "        [48.13164557, 49.11392405, 48.62278481, 48.13164557]]))"
            ]
          },
          "metadata": {
            "tags": []
          },
          "execution_count": 8
        }
      ]
    },
    {
      "cell_type": "markdown",
      "metadata": {
        "id": "UKB5kjHlk9jB"
      },
      "source": [
        "**Problem Statement 2:**\n",
        "\n",
        "Using the following data, perform a oneway analysis of variance using α=.05. Write up the results in APA format.\n",
        "\n",
        "[Group1: 51, 45, 33, 45, 67] [Group2: 23, 43, 23, 43, 45] [Group3: 56, 76, 74, 87, 56]"
      ]
    },
    {
      "cell_type": "code",
      "metadata": {
        "colab": {
          "base_uri": "https://localhost:8080/"
        },
        "id": "I4rxBU7sk67V",
        "outputId": "82c88817-3a95-42c8-80bd-86c915082399"
      },
      "source": [
        "#The analysis of variance or ANOVA is a statistical inference test that lets you compare multiple groups at the same time.\n",
        "#The one-way ANOVA tests whether the mean of some numeric variable differs across the levels of one categorical variable. \n",
        "#It essentially answers the question: do any of the group means differ from one another? \n",
        "\n",
        "#The scipy library has a function for carrying out one-way ANOVA tests called scipy.stats.f_oneway()\n",
        "\n",
        "Group1 = [51, 45, 33, 45, 67]\n",
        "Group2 = [23, 43, 23, 43, 45]\n",
        "Group3 = [56, 76, 74, 87, 56]\n",
        "\n",
        "# Perform the ANOVA\n",
        "statistic, pvalue = sts.f_oneway(Group1,Group2,Group3)\n",
        "print(\"F Statistic value {} , p-value {}\".format(statistic,pvalue))\n",
        "if pvalue < 0.05:\n",
        "    print('True')\n",
        "else:\n",
        "    print('False')"
      ],
      "execution_count": 9,
      "outputs": [
        {
          "output_type": "stream",
          "text": [
            "F Statistic value 9.747205503009463 , p-value 0.0030597541434430556\n",
            "True\n"
          ],
          "name": "stdout"
        }
      ]
    },
    {
      "cell_type": "markdown",
      "metadata": {
        "id": "isCYNX0RlG1z"
      },
      "source": [
        "Note: The test result suggests the groups don't have the same sample means in this case, since the p-value is significant at a 99% confidence level. Here the p-value returned is 0.00305 which is < 0.05"
      ]
    },
    {
      "cell_type": "markdown",
      "metadata": {
        "id": "CJpY-SR2lGvo"
      },
      "source": [
        "**Problem Statement 3**\n",
        "\n",
        "Calculate F Test for given 10, 20, 30, 40, 50 and 5,10,15, 20, 25. For 10, 20, 30, 40, 50:"
      ]
    },
    {
      "cell_type": "code",
      "metadata": {
        "colab": {
          "base_uri": "https://localhost:8080/"
        },
        "id": "8EL8p9Q5lEYt",
        "outputId": "fda8a203-2170-4f02-8ed8-9a985e8126f1"
      },
      "source": [
        "sts.f_oneway([10, 20, 30, 40, 50],[5,10,15, 20, 25])"
      ],
      "execution_count": 10,
      "outputs": [
        {
          "output_type": "execute_result",
          "data": {
            "text/plain": [
              "F_onewayResult(statistic=3.6, pvalue=0.0943497728424377)"
            ]
          },
          "metadata": {
            "tags": []
          },
          "execution_count": 10
        }
      ]
    },
    {
      "cell_type": "code",
      "metadata": {
        "colab": {
          "base_uri": "https://localhost:8080/"
        },
        "id": "8UasXVZJlOkp",
        "outputId": "33a79d5d-5ab1-4079-98d0-1d5e7e5de499"
      },
      "source": [
        "Group1 = [10, 20, 30, 40, 50]\n",
        "Group2 = [5,10,15, 20, 25]\n",
        "\n",
        "mean_1 = np.mean(Group1)\n",
        "mean_2 = np.mean(Group2)\n",
        "\n",
        "grp1_sub_mean1 = []\n",
        "grp2_sub_mean2 = []\n",
        "add1 = 0\n",
        "add2 = 0\n",
        "for items in Group1:\n",
        "    add1 += (items - mean_1)**2\n",
        "for items in Group2:\n",
        "    add2 += (items - mean_2)**2\n",
        "var1 = add1/(len(Group1)-1)\n",
        "var2 = add2/(len(Group2)-1)\n",
        "\n",
        "F_Test = var1/var2\n",
        "print(\"F Test for given 10, 20, 30, 40, 50 and 5,10,15, 20, 25 is : \",F_Test)"
      ],
      "execution_count": 11,
      "outputs": [
        {
          "output_type": "stream",
          "text": [
            "F Test for given 10, 20, 30, 40, 50 and 5,10,15, 20, 25 is :  4.0\n"
          ],
          "name": "stdout"
        }
      ]
    }
  ]
}