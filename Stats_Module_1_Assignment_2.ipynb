{
  "nbformat": 4,
  "nbformat_minor": 0,
  "metadata": {
    "colab": {
      "name": "Stats Module 1 Assignment 2.ipynb",
      "provenance": [],
      "collapsed_sections": [],
      "authorship_tag": "ABX9TyM0cGOie68e0btC2LTQN40i",
      "include_colab_link": true
    },
    "kernelspec": {
      "name": "python3",
      "display_name": "Python 3"
    },
    "language_info": {
      "name": "python"
    }
  },
  "cells": [
    {
      "cell_type": "markdown",
      "metadata": {
        "id": "view-in-github",
        "colab_type": "text"
      },
      "source": [
        "<a href=\"https://colab.research.google.com/github/Pawansansanwal/Assignment/blob/master/Stats_Module_1_Assignment_2.ipynb\" target=\"_parent\"><img src=\"https://colab.research.google.com/assets/colab-badge.svg\" alt=\"Open In Colab\"/></a>"
      ]
    },
    {
      "cell_type": "code",
      "metadata": {
        "id": "yTyBEnDtw0mm"
      },
      "source": [
        "from scipy.stats import norm\n",
        "import numpy as np\n",
        "import math\n",
        "import scipy.stats as stats\n",
        "from scipy.stats import chi2_contingency"
      ],
      "execution_count": 1,
      "outputs": []
    },
    {
      "cell_type": "markdown",
      "metadata": {
        "id": "VRWMqacyvfzt"
      },
      "source": [
        "**Problem Statement 1:**\n",
        "In each of the following situations, state whether it is a correctly stated hypothesis testing problem and why?\n",
        "\n",
        "1. 𝐻0: 𝜇 = 25, 𝐻1: 𝜇 ≠ 25\n",
        "2. 𝐻0: 𝜎 > 10, 𝐻1: 𝜎 = 10\n",
        "3. 𝐻0: 𝑥 = 50, 𝐻1: 𝑥 ≠ 50\n",
        "4. 𝐻0: 𝑝 = 0.1, 𝐻1: 𝑝 = 0.5\n",
        "5. 𝐻0: 𝑠 = 30, 𝐻1: 𝑠 > 30 "
      ]
    },
    {
      "cell_type": "markdown",
      "metadata": {
        "id": "Y2WSIgRWv8-w"
      },
      "source": [
        "1. Yes, because values in both are statement about population or distribution, have equal values and has inequality in ull hypothesis.\n",
        "\n",
        "2. No, because null hypothesis has an eqaulity claim and alternate hypothesis has inequality.\n",
        "\n",
        "3. No, because hypothesis is stated in terms of statistics and not sample data\n",
        "\n",
        "4. No, because values in both hypothesis is different and has equal sign.\n",
        "\n",
        "5. No, because hypothesis are always statements about population or distribution and not about sample"
      ]
    },
    {
      "cell_type": "markdown",
      "metadata": {
        "id": "VhrASfLVwQfN"
      },
      "source": [
        "**Problem Statement 2**\n",
        "\n",
        "The college bookstore tells prospective students that the average cost of its textbooks is Rs. 52 with a standard deviation of Rs. 4.50. A group of smart statistics students thinks that the average cost is higher. To test the bookstore’s claim against their alternative, the students will select a random sample of size 100. Assume that the mean from their random sample is Rs. 52.80. Perform a hypothesis test at the 5% level of significance and state your decision."
      ]
    },
    {
      "cell_type": "code",
      "metadata": {
        "colab": {
          "base_uri": "https://localhost:8080/"
        },
        "id": "RV6Y3rP-vrbk",
        "outputId": "464ee514-0b74-414d-c6eb-d841c467b282"
      },
      "source": [
        "p_mean = 52\n",
        "p_std = 4.50\n",
        "n = 100\n",
        "sample_mean = 52.80\n",
        "\n",
        "SE = p_std/n**0.5\n",
        "Z = (sample_mean-p_mean)/SE\n",
        "print(f\"Z score is:{Z}\")\n",
        "alpha=0.05  #test_significance\n",
        "print(f\"Critical region is {norm.ppf(alpha/2)}, {-norm.ppf(alpha/2)}\")"
      ],
      "execution_count": 2,
      "outputs": [
        {
          "output_type": "stream",
          "text": [
            "Z score is:1.7777777777777715\n",
            "Critical region is -1.9599639845400545, 1.9599639845400545\n"
          ],
          "name": "stdout"
        }
      ]
    },
    {
      "cell_type": "markdown",
      "metadata": {
        "id": "46_xOr9u2mtv"
      },
      "source": [
        "**From above we can conclude we can accept null hypothesis since z_score<critical region**\n"
      ]
    },
    {
      "cell_type": "markdown",
      "metadata": {
        "id": "VtFUgi-K21LW"
      },
      "source": [
        "**Problem Statement 3**\n",
        "\n",
        "A certain chemical pollutant in the Genesee River has been constant for several years with mean μ = 34 ppm (parts per million) and standard deviation σ = 8 ppm. A group of factory representatives whose companies discharge liquids into the river is now claiming that they have lowered the average with improved filtration devices. A group of environmentalists will test to see if this is true at the 1% level of significance. Assume \\ that their sample of size 50 gives a mean of 32.5 ppm. Perform a hypothesis test at the 1% level of significance and state your decision"
      ]
    },
    {
      "cell_type": "code",
      "metadata": {
        "colab": {
          "base_uri": "https://localhost:8080/"
        },
        "id": "6NfL_f_5vdp8",
        "outputId": "c85cc386-52a8-400c-c0e4-7cd639240cbc"
      },
      "source": [
        "p_mean = 34\n",
        "p_std = 8\n",
        "n = 50\n",
        "sample_mean = 32.5\n",
        "\n",
        "SE = p_std/n**0.5   #standard Error\n",
        "Z = (sample_mean-p_mean)/SE\n",
        "print(f\"Z score is:{Z}\")\n",
        "alpha=0.01\n",
        "print(f\"Critical region is {norm.ppf(alpha/2)}, {-norm.ppf(alpha/2)}\")"
      ],
      "execution_count": 3,
      "outputs": [
        {
          "output_type": "stream",
          "text": [
            "Z score is:-1.3258252147247767\n",
            "Critical region is -2.575829303548901, 2.575829303548901\n"
          ],
          "name": "stdout"
        }
      ]
    },
    {
      "cell_type": "markdown",
      "metadata": {
        "id": "2oSHPu813H5y"
      },
      "source": [
        "**From above we can conclude we can accept null hypothesis since critical_region<Z_score**\n"
      ]
    },
    {
      "cell_type": "markdown",
      "metadata": {
        "id": "7X58W2A73NTU"
      },
      "source": [
        "**Problem Statement 4**\n",
        "\n",
        "Based on population figures and other general information on the U.S. population, suppose it has been estimated that, on average, a family of four in the U.S. spends about $1135 annually on dental expenditures. Suppose further that a regional dental association wants to test to determine if this figure is accurate for their area of country. To test this, 22 families of 4 are randomly selected from the population in that area of the country and a log is kept of the family’s dental expenditure for one year. The resulting data are given below. Assuming, that dental expenditure is normally distributed in the population, use the data and an alpha of 0.5 to test the dental association’s hypothesis. 1008, 812, 1117, 1323, 1308, 1415, 831, 1021, 1287, 851, 930, 730, 699, 872, 913, 944, 954, 987, 1695, 995, 1003, 994"
      ]
    },
    {
      "cell_type": "code",
      "metadata": {
        "colab": {
          "base_uri": "https://localhost:8080/"
        },
        "id": "rj6a9SV23G7G",
        "outputId": "8bff0751-faec-48c8-983b-4b0b811cf792"
      },
      "source": [
        "given_data=[1008, 812, 1117, 1323, 1308, 1415, 831, 1021, 1287, 851, 930, 730, 699, 872, 913, 944, 954, 987, 1695, 995, 1003, 994]\n",
        "p_mean =1135\n",
        "sample_std = np.std(given_data)\n",
        "n=22\n",
        "sample_mean = np.sum(given_data,axis=0)/len(given_data)\n",
        "SE = sample_std/n**0.5\n",
        "alpha = 0.5\n",
        "test_1 = (sample_mean-p_mean)/SE\n",
        "print(f\"t_Score is{test_1}\")\n",
        "print(f\"Critical Region is {stats.t.ppf((alpha/2),df=21)} {stats.t.ppf(1-(alpha/2),df=21)}\")"
      ],
      "execution_count": 4,
      "outputs": [
        {
          "output_type": "stream",
          "text": [
            "t_Score is-2.070747228595759\n",
            "Critical Region is -0.6863519891164291 0.6863519891164291\n"
          ],
          "name": "stdout"
        }
      ]
    },
    {
      "cell_type": "markdown",
      "metadata": {
        "id": "qXKb0UbP3U3L"
      },
      "source": [
        "**We reject null hypothesis alpha=0.5 since it lies within critical region**"
      ]
    },
    {
      "cell_type": "markdown",
      "metadata": {
        "id": "ICyxP5d13b8Z"
      },
      "source": [
        "**Problem Statement 5**\n",
        "\n",
        "In a report prepared by the Economic Research Department of a major bank the Department manager maintains that the average annual family income on Metropolis is 48432. What do you conclude about the validity of the report if a random sample of 400 families shows and average income of 48,574 with a standard deviation of 2000?"
      ]
    },
    {
      "cell_type": "code",
      "metadata": {
        "colab": {
          "base_uri": "https://localhost:8080/"
        },
        "id": "EsEqeFlA3UCX",
        "outputId": "ec552d8b-1350-409a-d145-3c1d519c8cfb"
      },
      "source": [
        "p_mean = 48432\n",
        "p_std = 2000\n",
        "n =400\n",
        "sample_mean =48574\n",
        "\n",
        "SE = p_std/n**0.5\n",
        "Z = (sample_mean-p_mean)/SE\n",
        "alpha=0.05\n",
        "print(f\"Critical region is {norm.ppf(alpha/2)} {-norm.ppf(alpha/2)}\")"
      ],
      "execution_count": 5,
      "outputs": [
        {
          "output_type": "stream",
          "text": [
            "Critical region is -1.9599639845400545 1.9599639845400545\n"
          ],
          "name": "stdout"
        }
      ]
    },
    {
      "cell_type": "markdown",
      "metadata": {
        "id": "4Pxcnt_i3jfy"
      },
      "source": [
        "**We accept null hypothesis at alpha=0.05 since z_score<critical_region**"
      ]
    },
    {
      "cell_type": "markdown",
      "metadata": {
        "id": "2SBjpajM3pwf"
      },
      "source": [
        "**Problem Statement 6:**\n",
        "\n",
        "Suppose that in past years the average price per square foot for warehouses in the United States has been 32.28. A national real estate investor wants to determine whether that figure has changed now. The investor hires a researcher who randomly samples 19 warehouses that are for sale across the United States and finds that the mean price per square foot is 31.67, with a standard deviation of 1.29. assume that the prices of warehouse footage are normally distributed in population. If the researcher uses a 5% level of significance, what statistical conclusion can be reached? What are the hypotheses?"
      ]
    },
    {
      "cell_type": "code",
      "metadata": {
        "colab": {
          "base_uri": "https://localhost:8080/"
        },
        "id": "F11p66LZ3iYI",
        "outputId": "e5e9480d-684d-400c-e681-6abfe8891b6d"
      },
      "source": [
        "p_mean =32.28\n",
        "n=19\n",
        "sample_mean =31.67\n",
        "sample_std =1.29\n",
        "alpha =0.05\n",
        "\n",
        "SE=sample_std/(n**0.5)\n",
        "t=(sample_mean-p_mean)/SE\n",
        "print(f\"t_score is {round((t),1)}\")\n",
        "print(f\"Critical region is {round(stats.t.ppf((alpha/2),df=18),1)} {-round(stats.t.ppf((alpha/2),df=18),1)}\")"
      ],
      "execution_count": 6,
      "outputs": [
        {
          "output_type": "stream",
          "text": [
            "t_score is -2.1\n",
            "Critical region is -2.1 2.1\n"
          ],
          "name": "stdout"
        }
      ]
    },
    {
      "cell_type": "markdown",
      "metadata": {
        "id": "eLV-SSD83zHd"
      },
      "source": [
        "**we can reject null hypothesis at alpha=0.05 since it lies within critical region**"
      ]
    },
    {
      "cell_type": "markdown",
      "metadata": {
        "id": "2JwLopeN33bV"
      },
      "source": [
        "**Problem Statement 7**\n",
        "\n",
        "Fill in the blank spaces in the table and draw your conclusions from it.\n",
        "![12.PNG](data:image/png;base64,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)\n",
        "\n",
        "1) Acceptance region 48.5 < x < 51.5**"
      ]
    },
    {
      "cell_type": "code",
      "metadata": {
        "id": "KIbqpBmV3wgb",
        "colab": {
          "base_uri": "https://localhost:8080/"
        },
        "outputId": "a218991d-b8b3-4a04-80ea-8e0c11d7add2"
      },
      "source": [
        "# Calculate Beta at Mu1 = 52\n",
        "n1 = 10\n",
        "Sig =2.5\n",
        "Mu1 =52\n",
        "\n",
        "p11 = (48.5 - Mu1)/(Sig/math.sqrt(n1))\n",
        "print(p11)\n",
        "p12 = (51.5 - Mu1)/(Sig/math.sqrt(n1))\n",
        "print(p12)\n",
        "# As p12 > p11, so our z score lies in between these two p12 < z < p11.\n",
        "# Find probability at these z score\n",
        "P11 = 0\n",
        "P12 = 0.2643\n",
        "# now Beta = p12 - p11\n",
        "Beta11 = P12 - P11\n",
        "print(f\"Beta at Mu1 = 52 is : {Beta11}\")"
      ],
      "execution_count": 7,
      "outputs": [
        {
          "output_type": "stream",
          "text": [
            "-4.427188724235731\n",
            "-0.6324555320336759\n",
            "Beta at Mu1 = 52 is : 0.2643\n"
          ],
          "name": "stdout"
        }
      ]
    },
    {
      "cell_type": "code",
      "metadata": {
        "colab": {
          "base_uri": "https://localhost:8080/"
        },
        "id": "eV8oR6ccA9WM",
        "outputId": "272990cb-e5ee-4353-a82f-3c3456832dc4"
      },
      "source": [
        "n1 = 10\n",
        "Sig =2.5\n",
        "Mu2 =50.5\n",
        "\n",
        "p13 = (48.5 - Mu2)/(Sig/math.sqrt(n1))\n",
        "print(p13)\n",
        "p14 = (51.5 - Mu2)/(Sig/math.sqrt(n1))\n",
        "print(p14)\n",
        "\n",
        "# so our z score lies in between these two p13 < z < p14.\n",
        "# Find probability at these z score\n",
        "P13 = 0.0057\n",
        "P14 = 0.8962\n",
        "# now Beta = p13 +(1 - p14)\n",
        "Beta12 = P13 +(1- P14)\n",
        "print(f\"Beta at Mu2 = 50.5 is : {Beta12}\")"
      ],
      "execution_count": 8,
      "outputs": [
        {
          "output_type": "stream",
          "text": [
            "-2.5298221281347035\n",
            "1.2649110640673518\n",
            "Beta at Mu2 = 50.5 is : 0.1095\n"
          ],
          "name": "stdout"
        }
      ]
    },
    {
      "cell_type": "code",
      "metadata": {
        "colab": {
          "base_uri": "https://localhost:8080/"
        },
        "id": "HZmhMfH8A811",
        "outputId": "0f23ec2d-dd33-4378-952b-cd4c2d966e0c"
      },
      "source": [
        "# Calculate Beta at Mu1 = 52\n",
        "n2 = 10\n",
        "Sig =2.5\n",
        "Mu1 =52\n",
        "\n",
        "p21 = (48.0 - Mu1)/(Sig/math.sqrt(n2))\n",
        "print(p21)\n",
        "p22 = (51.0 - Mu1)/(Sig/math.sqrt(n2))\n",
        "print(p22)\n",
        "\n",
        "# As p22 > p21, so our z score lies in between these two p22 < z < p21.\n",
        "# Find probability at these z score\n",
        "P21 = 0\n",
        "P22 = 0.1038\n",
        "# now Beta = p22 - p21\n",
        "Beta21 = P22 - P21\n",
        "print(f\"Beta at Mu2 = 52 is : {Beta21}\")"
      ],
      "execution_count": 9,
      "outputs": [
        {
          "output_type": "stream",
          "text": [
            "-5.059644256269407\n",
            "-1.2649110640673518\n",
            "Beta at Mu2 = 52 is : 0.1038\n"
          ],
          "name": "stdout"
        }
      ]
    },
    {
      "cell_type": "code",
      "metadata": {
        "colab": {
          "base_uri": "https://localhost:8080/"
        },
        "id": "-M3XEan5BDfQ",
        "outputId": "2da9c4ef-dfda-468a-bcb3-9d99a267aeef"
      },
      "source": [
        "n2 = 10\n",
        "Sig =2.5\n",
        "Mu2 =50.5\n",
        "\n",
        "p23 = (48 - Mu2)/(Sig/math.sqrt(n2))\n",
        "print(p23)\n",
        "p24 = (51 - Mu2)/(Sig/math.sqrt(n2))\n",
        "print(p24)\n",
        "\n",
        "# so our z score lies in between these two p13 < z < p14.\n",
        "# Find probability at these z score\n",
        "P23 = 0.0008\n",
        "P24 = 0.7357\n",
        "# now Beta = p13 +(1 - p14)\n",
        "Beta22 = P23 +(1- P24)\n",
        "print(f\"Beta at Mu2 = 50.5 is : {Beta22}\")"
      ],
      "execution_count": 10,
      "outputs": [
        {
          "output_type": "stream",
          "text": [
            "-3.1622776601683795\n",
            "0.6324555320336759\n",
            "Beta at Mu2 = 50.5 is : 0.2651\n"
          ],
          "name": "stdout"
        }
      ]
    },
    {
      "cell_type": "code",
      "metadata": {
        "colab": {
          "base_uri": "https://localhost:8080/"
        },
        "id": "nq--BOcxBGB-",
        "outputId": "6284dd6f-833d-4541-97a1-55f419dfe08b"
      },
      "source": [
        "# Calculate Beta at Mu1 = 52\n",
        "n3 = 16\n",
        "Sig =2.5\n",
        "Mu1 =52\n",
        "\n",
        "p31 = (48.81 - Mu1)/(Sig/math.sqrt(n3))\n",
        "print(p31)\n",
        "p32 = (51.9 - Mu1)/(Sig/math.sqrt(n3))\n",
        "print(p32)\n",
        "\n",
        "# so our z score lies in between these two p31 < z < p32.\n",
        "# Find probability at these z score\n",
        "P31 = 0.4364\n",
        "P32 = 0\n",
        "# now Beta = p31 - p32\n",
        "Beta31 = P31 - P32\n",
        "print(f\"Beta at Mu2 = 52 is : {Beta31}\")"
      ],
      "execution_count": 11,
      "outputs": [
        {
          "output_type": "stream",
          "text": [
            "-5.1039999999999965\n",
            "-0.16000000000000228\n",
            "Beta at Mu2 = 52 is : 0.4364\n"
          ],
          "name": "stdout"
        }
      ]
    },
    {
      "cell_type": "code",
      "metadata": {
        "colab": {
          "base_uri": "https://localhost:8080/"
        },
        "id": "Q5jUawSGBJ4M",
        "outputId": "f86ec4a4-9272-4752-f696-eecbd6e6a39e"
      },
      "source": [
        "# Calculate Beta at Mu2 = 50.5\n",
        "n3 = 16\n",
        "Sig =2.5\n",
        "Mu2 =50.5\n",
        "\n",
        "p33 = (48.81 - Mu2)/(Sig/math.sqrt(n3))\n",
        "print(p33)\n",
        "p34 = (51.9 - Mu2)/(Sig/math.sqrt(n3))\n",
        "print(p34)\n",
        "\n",
        "# so our z score lies in between these two p33 < z < 1- p34.\n",
        "# Find probability at these z score\n",
        "P33 = 0.0032\n",
        "P34 = 0.9875\n",
        "# now Beta = P33 + 1- P34\n",
        "Beta32 = P33 +1 - P34\n",
        "print(f\"Beta at Mu2 = 50.5 is : {Beta32}\")"
      ],
      "execution_count": 12,
      "outputs": [
        {
          "output_type": "stream",
          "text": [
            "-2.703999999999996\n",
            "2.2399999999999975\n",
            "Beta at Mu2 = 50.5 is : 0.015700000000000047\n"
          ],
          "name": "stdout"
        }
      ]
    },
    {
      "cell_type": "code",
      "metadata": {
        "colab": {
          "base_uri": "https://localhost:8080/"
        },
        "id": "NySckm3UBPNT",
        "outputId": "5fb8d64e-c45e-4568-c246-cbf1bff50de9"
      },
      "source": [
        "# Calculate Beta at Mu1 = 52\n",
        "n4 = 16\n",
        "Sig =2.5\n",
        "Mu1 =52\n",
        "\n",
        "p41 = (48.42 - Mu1)/(Sig/math.sqrt(n4))\n",
        "print(p41)\n",
        "p42 = (51.58 - Mu1)/(Sig/math.sqrt(n4))\n",
        "print(p42)\n",
        "\n",
        "# As P42> P41, so our z score lies in between these two p42 < z < p41.\n",
        "# Find probability at these z score\n",
        "P41 = 0.0\n",
        "P42 = 0.2514\n",
        "# now Beta = p31 - p32\n",
        "Beta41 = P42 - P41\n",
        "print(f\"Beta at Mu2 = 52 is : {Beta41}\")"
      ],
      "execution_count": 13,
      "outputs": [
        {
          "output_type": "stream",
          "text": [
            "-5.727999999999997\n",
            "-0.6720000000000027\n",
            "Beta at Mu2 = 52 is : 0.2514\n"
          ],
          "name": "stdout"
        }
      ]
    },
    {
      "cell_type": "code",
      "metadata": {
        "colab": {
          "base_uri": "https://localhost:8080/"
        },
        "id": "YdVAU2wqBRks",
        "outputId": "374d22e9-5144-4245-fa74-27908c82022c"
      },
      "source": [
        "# Calculate Beta at Mu2 = 50.5\n",
        "n4 = 16\n",
        "Sig =2.5\n",
        "Mu2 =50.5\n",
        "\n",
        "p43 = (48.42 - Mu2)/(Sig/math.sqrt(n4))\n",
        "print(p33)\n",
        "p44 = (51.58 - Mu2)/(Sig/math.sqrt(n4))\n",
        "print(p34)\n",
        "\n",
        "# so our z score lies in between these two p33 < z < 1- p34.\n",
        "# Find probability at these z score\n",
        "P43 = 0.0035\n",
        "P44 = 0.9875\n",
        "# now Beta = P43 + 1- P44\n",
        "Beta42 = P43 +(1 - P44)\n",
        "print(f\"Beta at Mu2 = 50.5 is : {Beta42}\")"
      ],
      "execution_count": 14,
      "outputs": [
        {
          "output_type": "stream",
          "text": [
            "-2.703999999999996\n",
            "2.2399999999999975\n",
            "Beta at Mu2 = 50.5 is : 0.015999999999999955\n"
          ],
          "name": "stdout"
        }
      ]
    },
    {
      "cell_type": "markdown",
      "metadata": {
        "id": "pBhaDepHBYw4"
      },
      "source": [
        "**Problem Statement 8:**\n",
        "\n",
        "Find the t-score for a sample size of 16 taken from a population with mean 10 when the sample mean is 12 and the sample standard deviation is 1.5"
      ]
    },
    {
      "cell_type": "code",
      "metadata": {
        "colab": {
          "base_uri": "https://localhost:8080/"
        },
        "id": "aLHQoMetBVPd",
        "outputId": "24a26caa-f4ac-430c-8f9c-24d80ae4a9aa"
      },
      "source": [
        "#t_score = ?\n",
        "n = 16\n",
        "p_mean = 10\n",
        "sample_mean =12\n",
        "sample_std =1.5\n",
        "\n",
        "SE = sample_std/(n**0.5)\n",
        "t = (sample_mean-p_mean)/SE\n",
        "print(f\"t_score is {round((t),1)}\")"
      ],
      "execution_count": 15,
      "outputs": [
        {
          "output_type": "stream",
          "text": [
            "t_score is 5.3\n"
          ],
          "name": "stdout"
        }
      ]
    },
    {
      "cell_type": "markdown",
      "metadata": {
        "id": "7X4esvO0Bjws"
      },
      "source": [
        "**Problem Statement 9:**\n",
        "\n",
        "Find the t-score below which we can expect 99% of sample means will fall if samples of size 16 are taken from a normally distributed population."
      ]
    },
    {
      "cell_type": "code",
      "metadata": {
        "colab": {
          "base_uri": "https://localhost:8080/"
        },
        "id": "VDPmDPvABgPr",
        "outputId": "0dfeb7d3-a116-46c0-a2a9-efb7968bedbf"
      },
      "source": [
        "n= 16\n",
        "alpha=(1-0.99)/2\n",
        "print(f\"t_score is {stats.t.ppf(1-alpha,df=15)}\")"
      ],
      "execution_count": 16,
      "outputs": [
        {
          "output_type": "stream",
          "text": [
            "t_score is 2.946712883338615\n"
          ],
          "name": "stdout"
        }
      ]
    },
    {
      "cell_type": "markdown",
      "metadata": {
        "id": "-YmQQ9-mBpUQ"
      },
      "source": [
        "**Problem Statement 10:**\n",
        "\n",
        "If a random sample of size 25 drawn from a normal population gives a mean of 60 and a standard deviation of 4, find the range of t-scores where we can expect to find the middle 95% of all sample means. Compute the probability that (−𝑡0.05 <𝑡<𝑡0.10)."
      ]
    },
    {
      "cell_type": "code",
      "metadata": {
        "colab": {
          "base_uri": "https://localhost:8080/"
        },
        "id": "nJBp85blBolp",
        "outputId": "22ac94ac-f4f2-46e0-dd40-c92a854396f1"
      },
      "source": [
        "n=25\n",
        "std=4\n",
        "mean=60\n",
        "alpha=(1-0.95)/2\n",
        "t_score=stats.t.ppf(1-alpha,df=24)\n",
        "print(f\"Range is : {mean+t_score*(std/(n**0.5))} {mean-t_score*(std/(n**0.5))}\")"
      ],
      "execution_count": 17,
      "outputs": [
        {
          "output_type": "stream",
          "text": [
            "Range is : 61.651118849302414 58.348881150697586\n"
          ],
          "name": "stdout"
        }
      ]
    },
    {
      "cell_type": "markdown",
      "metadata": {
        "id": "PjNeqd57BwqI"
      },
      "source": [
        "**Problem Statement 11:**\n",
        "\n",
        "Two-tailed test for difference between two population means Is there evidence to conclude that the number of people travelling from Bangalore to Chennai is different from the number of people travelling from Bangalore to Hosur in a week, given the following: Population 1: Bangalore to Chennai n1 = 1200 x1 = 452 s1 = 212 Population 2: Bangalore to Hosur n2 = 800 x2 = 523 s2 = 185"
      ]
    },
    {
      "cell_type": "code",
      "metadata": {
        "colab": {
          "base_uri": "https://localhost:8080/"
        },
        "id": "EaDV_bBwBvoT",
        "outputId": "2c6913b3-1119-4cee-907e-1e0903aac0f4"
      },
      "source": [
        "n1 = 1200 \n",
        "x1 = 452\n",
        "s1 = 212\n",
        "n2 = 800\n",
        "x2 = 523\n",
        "s2 = 185\n",
        "s_1=s1**2\n",
        "s_2=s2**2\n",
        "alpha=0.05\n",
        "se=((s_1/n1)+(s_2/n2))**0.5\n",
        "z_score=(x1-x2)/se\n",
        "print(f\"Z_Score is {z_score}\")\n",
        "print(f\"Critical region is {norm.ppf(alpha/2)} {-norm.ppf(alpha/2)}\")"
      ],
      "execution_count": 18,
      "outputs": [
        {
          "output_type": "stream",
          "text": [
            "Z_Score is -7.926428526759299\n",
            "Critical region is -1.9599639845400545 1.9599639845400545\n"
          ],
          "name": "stdout"
        }
      ]
    },
    {
      "cell_type": "markdown",
      "metadata": {
        "id": "azB4lJUPB9Up"
      },
      "source": [
        "**We reject null hypothesis since it lies within critical region at alpha=5%.So,number of people travelling from Bangalore to Chennai is different from the number of people travelling from Bangalore to Hosur in a week**"
      ]
    },
    {
      "cell_type": "markdown",
      "metadata": {
        "id": "eiXkP9eKCEng"
      },
      "source": [
        "**Problem Statement 12:**\n",
        "\n",
        "Is there evidence to conclude that the number of people preferring Duracell battery is different from the number of people preferring Energizer battery, given the following: Population 1: Duracell n1 = 100 x1 = 308 s1 = 84 Population 2: Energizer n2 = 100 x2 = 254 s2 = 67"
      ]
    },
    {
      "cell_type": "code",
      "metadata": {
        "colab": {
          "base_uri": "https://localhost:8080/"
        },
        "id": "J_MupGBuB2BP",
        "outputId": "ee5d9579-b1d6-4b5a-b9e4-1f71f8ccf1bb"
      },
      "source": [
        "n1 = 100\n",
        "x1 = 308\n",
        "s1 = 84\n",
        "n2 = 100\n",
        "x2 = 254\n",
        "s2 = 67\n",
        "s_1=s1**2\n",
        "s_2=s2**2\n",
        "alpha=0.05\n",
        "SE=((s_1/n1)+(s_2/n2))**0.5\n",
        "z_score=(x1-x2)/SE\n",
        "print(f\"Z_Score is {z_score}\")\n",
        "print(f\"Critical region is {norm.ppf(alpha/2)} {-norm.ppf(alpha/2)}\")"
      ],
      "execution_count": 19,
      "outputs": [
        {
          "output_type": "stream",
          "text": [
            "Z_Score is 5.025702668336442\n",
            "Critical region is -1.9599639845400545 1.9599639845400545\n"
          ],
          "name": "stdout"
        }
      ]
    },
    {
      "cell_type": "markdown",
      "metadata": {
        "id": "bpORuXWqCJs5"
      },
      "source": [
        "**We reject null hypothesis since it lies within critical region at alpha=5%.So, number of people preferring Duracell battery is different from the number of people preferring Energizer battery**"
      ]
    },
    {
      "cell_type": "markdown",
      "metadata": {
        "id": "f4s87LeHCN6w"
      },
      "source": [
        "**Problem Statement 13:**\n",
        "\n",
        "Pooled estimate of the population variance Does the data provide sufficient evidence to conclude that average percentage increase in the price of sugar differs when it is sold at two different prices? Population 1: Price of sugar = Rs. 27.50 n1 = 14 x1 = 0.317% s1 = 0.12% Population 2: Price of sugar = Rs. 20.00 n2 = 9 x2 = 0.21% s2 = 0.11%"
      ]
    },
    {
      "cell_type": "code",
      "metadata": {
        "colab": {
          "base_uri": "https://localhost:8080/"
        },
        "id": "-Zsk6rTtCI1Z",
        "outputId": "e04c7897-eb52-4656-ca3c-4b46b410eed1"
      },
      "source": [
        "n1 = 14 \n",
        "x1 = 0.317\n",
        "s1 = 0.12 \n",
        "n2 = 9 \n",
        "x2 = 0.21 \n",
        "s2 = 0.11\n",
        "s_1=s1**2\n",
        "s_2=s2**2\n",
        "s=((n1-1)*s_1)+((n2-1)*s_2)\n",
        "n=(n1+n2-2)\n",
        "se=(s/n)**0.5\n",
        "n_1=((1/n1)+(1/n2))**0.5\n",
        "t_score=(x1-x2)/se*n_1\n",
        "\n",
        "print(f\"T_score is {t_score}\")\n",
        "print(f\"Critical Region is {stats.t.ppf(1-0.05,df=n)}\")"
      ],
      "execution_count": 20,
      "outputs": [
        {
          "output_type": "stream",
          "text": [
            "T_score is 0.3931089218182991\n",
            "Critical Region is 1.7207429028118775\n"
          ],
          "name": "stdout"
        }
      ]
    },
    {
      "cell_type": "markdown",
      "metadata": {
        "id": "GVW9yzqjCT_u"
      },
      "source": [
        "**We accept null hypothesis at alpha=5%.So,average price do not increase**"
      ]
    },
    {
      "cell_type": "markdown",
      "metadata": {
        "id": "_NBAcQU1CYqQ"
      },
      "source": [
        "**Problem Statement 14:**\n",
        "\n",
        "The manufacturers of compact disk players want to test whether a small price reduction is enough to increase sales of their product. Is there evidence that the small price reduction is enough to increase sales of compact disk players? Population 1: Before reduction n1 = 15 x1 = Rs. 6598 s1 = Rs. 844 Population 2: After reduction n2 = 12 x2 = RS. 6870 s2 = Rs. 669"
      ]
    },
    {
      "cell_type": "code",
      "metadata": {
        "colab": {
          "base_uri": "https://localhost:8080/"
        },
        "id": "DDayF3oiCTIB",
        "outputId": "30c698db-7255-47c7-9b9d-eca197e323e9"
      },
      "source": [
        "n1 = 15 \n",
        "x1 = 6598 \n",
        "s1 = 844 \n",
        "n2 = 12 \n",
        "x2 = 6870 \n",
        "s2 = 669\n",
        "s_1=s1**2\n",
        "s_2=s2**2\n",
        "\n",
        "s=((n1-1)*s_1)+((n2-1)*s_2)\n",
        "n=(n1+n2-2)\n",
        "se=(s/n)**0.5\n",
        "n_1=((1/n1)+(1/n2))**0.5\n",
        "t_score=(x1-x2)/se*n_1\n",
        "\n",
        "print(f\"T_score is {t_score}\")\n",
        "print(f\"Critical Region is {stats.t.ppf(0.05,df=n)}\")"
      ],
      "execution_count": 21,
      "outputs": [
        {
          "output_type": "stream",
          "text": [
            "T_score is -0.1364745051598569\n",
            "Critical Region is -1.708140761251899\n"
          ],
          "name": "stdout"
        }
      ]
    },
    {
      "cell_type": "markdown",
      "metadata": {
        "id": "GPSP4cXECgzK"
      },
      "source": [
        "**We accept null hypothesis at alpha=5%.So average price remains same**"
      ]
    },
    {
      "cell_type": "markdown",
      "metadata": {
        "id": "qm0x8DzpCguo"
      },
      "source": [
        "**Problem Statement 15:**\n",
        "\n",
        "Comparisons of two population proportions when the hypothesized difference is zero Carry out a two-tailed test of the equality of banks’ share of the car loan market in 1980 and 1995. Population 1: 1980 n1 = 1000 x1 = 53 𝑝 1 = 0.53 Population 2: 1985 n2 = 100 x2 = 43 𝑝 2= 0.53"
      ]
    },
    {
      "cell_type": "code",
      "metadata": {
        "colab": {
          "base_uri": "https://localhost:8080/"
        },
        "id": "cQsZ9mtJCeYD",
        "outputId": "9632e4c4-847a-4a09-dd39-cc3461925533"
      },
      "source": [
        "n1 = 1000 \n",
        "x1 = 53 \n",
        "𝑝1 = 0.53 \n",
        "n2 = 100 \n",
        "x2 = 43 \n",
        "𝑝2= 0.53\n",
        "p=(x1+x2)/(n1+n2)\n",
        "\n",
        "n=(1/n1)+(1/n2)\n",
        "p_1=p*(1-p)\n",
        "Z=(p1-p2)/((p_1*n)**0.5)\n",
        "print(f\"Z_score is {Z}\")\n",
        "print(f\"Critical region is {norm.ppf(0.05)}\")"
      ],
      "execution_count": 22,
      "outputs": [
        {
          "output_type": "stream",
          "text": [
            "Z_score is 0.0\n",
            "Critical region is -1.6448536269514729\n"
          ],
          "name": "stdout"
        }
      ]
    },
    {
      "cell_type": "markdown",
      "metadata": {
        "id": "tlvuS9K-Coud"
      },
      "source": [
        "**We can't reject null hypothesis at alpha=10%**"
      ]
    },
    {
      "cell_type": "markdown",
      "metadata": {
        "id": "4o1JTVy1Copy"
      },
      "source": [
        "**Problem Statement 16:**\n",
        "\n",
        "Carry out a one-tailed test to determine whether the population proportion of traveler’s check buyers who buy at least $2500 in checks when sweepstakes prizes are offered as at least 10% higher than the proportion of such buyers when no sweepstakes are on. Population 1: With sweepstakes n1 = 300 x1 = 120 𝑝 = 0.40 Population 2: No sweepstakes n2 = 700 x2 = 140 𝑝 2= 0.20"
      ]
    },
    {
      "cell_type": "code",
      "metadata": {
        "colab": {
          "base_uri": "https://localhost:8080/"
        },
        "id": "3ThTfJdBCoBV",
        "outputId": "f6ad3761-9473-4767-b6c1-ba68efb9de5b"
      },
      "source": [
        "n1 = 300 \n",
        "x1 = 120 \n",
        "𝑝1 = 0.40  \n",
        "n2 = 700 \n",
        "x2 = 140 \n",
        "𝑝2= 0.20\n",
        "p=(x1+x2)/(n1+n2)\n",
        "\n",
        "n=(1/n1)+(1/n2)\n",
        "p_1=p*(1-p)\n",
        "Z=(p1-p2-0.1)/((p_1*n)**0.5)\n",
        "print(f\"Z_score is {Z}\")\n",
        "print(f\"Critical region is {-norm.ppf(0.05)}\")"
      ],
      "execution_count": 23,
      "outputs": [
        {
          "output_type": "stream",
          "text": [
            "Z_score is 3.303749523611152\n",
            "Critical region is 1.6448536269514729\n"
          ],
          "name": "stdout"
        }
      ]
    },
    {
      "cell_type": "markdown",
      "metadata": {
        "id": "CPNug9khCzZ_"
      },
      "source": [
        "**Problem Statement 17:**\n",
        "\n",
        "A die is thrown 132 times with the following results: Number turned up: 1, 2, 3, 4, 5, 6 Frequency: 16, 20, 25, 14, 29, 28 Is the die unbiased? Consider the degrees of freedom as 𝑝 − 1."
      ]
    },
    {
      "cell_type": "code",
      "metadata": {
        "colab": {
          "base_uri": "https://localhost:8080/"
        },
        "id": "JUjKViThCyLs",
        "outputId": "3ee28a9f-7a81-42da-81eb-f9e901b68754"
      },
      "source": [
        "\n",
        "f_obs= [16, 20, 25, 14, 29, 28]\n",
        "result=stats.chisquare(f_obs)\n",
        "print(f\"Chi square value is {result[0]} and p-value is {result[1]}\")\n",
        "print('Dias is unbiased.')"
      ],
      "execution_count": 24,
      "outputs": [
        {
          "output_type": "stream",
          "text": [
            "Chi square value is 9.0 and p-value is 0.1090641579497725\n",
            "Dias is unbiased.\n"
          ],
          "name": "stdout"
        }
      ]
    },
    {
      "cell_type": "markdown",
      "metadata": {
        "id": "YyUiNSIiDBAv"
      },
      "source": [
        "**Problem Statement 18:**\n",
        "\n",
        "In a certain town, there are about one million eligible voters. A simple random sample of 10,000 eligible voters was chosen to study the relationship between gender and participation in the last election. The results are summarized in the following 2X2 (read two by two) contingency table:\n",
        "We would want to check whether being a man or a woman (columns) is independent of having voted in the last election (rows). In other words, is “gender and voting independent”?"
      ]
    },
    {
      "cell_type": "code",
      "metadata": {
        "colab": {
          "base_uri": "https://localhost:8080/"
        },
        "id": "0EBPwDERC83d",
        "outputId": "ce486195-09ed-4c37-e867-8872ab866121"
      },
      "source": [
        "observed_voted_men=2792\n",
        "observed_voted_women=3591\n",
        "observed_not_voted_men=1486\n",
        "observed_not_voted_women=2131\n",
        "total_voted=2792+3591\n",
        "total_not_voted=1486+2131\n",
        "total_men=2792+1486\n",
        "total_women=3591+2131\n",
        "expected_voted_men=(total_voted*total_men)/10000\n",
        "expected_voted_women=(total_voted*total_women)/10000\n",
        "expected_not_voted_men=(total_not_voted*total_men)/10000\n",
        "expected_not_voted_women=(total_not_voted*total_women)/10000\n",
        "chisquare1=(((observed_voted_women-expected_voted_women)**2)/expected_voted_women)\n",
        "chisquare2=(((observed_voted_men-expected_voted_men)**2)/expected_voted_men)\n",
        "chisquare3=(((observed_not_voted_men-expected_not_voted_men)**2)/expected_not_voted_men)\n",
        "chisquare4=(((observed_not_voted_women-expected_not_voted_women)**2)/expected_not_voted_women)\n",
        "chisquare=chisquare1+chisquare2+chisquare3+chisquare4\n",
        "print(f\"Chi Square value is {chisquare}\")\n",
        "print(f\"Critical region with alpha=0.05 is 3.84\")\n",
        "print(\"We reject null hypothesis.It is not gender and voting independent\")"
      ],
      "execution_count": 25,
      "outputs": [
        {
          "output_type": "stream",
          "text": [
            "Chi Square value is 6.660455899328067\n",
            "Critical region with alpha=0.05 is 3.84\n",
            "We reject null hypothesis.It is not gender and voting independent\n"
          ],
          "name": "stdout"
        }
      ]
    },
    {
      "cell_type": "markdown",
      "metadata": {
        "id": "DnALlqiGDLjZ"
      },
      "source": [
        "**Problem Statement 19:**\n",
        "\n",
        "A sample of 100 voters are asked which of four candidates they would vote for in an election. The number supporting each candidate is given below:\n",
        "\n",
        "Do the data suggest that all candidates are equally popular? [Chi-Square = 14.96,with 3 df, 𝑝 0.05 .]"
      ]
    },
    {
      "cell_type": "code",
      "metadata": {
        "colab": {
          "base_uri": "https://localhost:8080/"
        },
        "id": "QvmQVuHWDJe1",
        "outputId": "7df746cc-a4b7-49ff-e456-faabcb01e9b9"
      },
      "source": [
        "#print(np.mean([41,19,24,16]))\n",
        "obs=[41,19,24,16]\n",
        "exp=[25,25,25,25]\n",
        "result=stats.chisquare(obs,exp)\n",
        "print(f\"Chi Square value is {result[0]}\")\n",
        "print(f\"Critical region with 3df and alpha=0.05 is 7.82\")\n",
        "print(\"We reject null hypothesis. All candidates are not equally popular\")"
      ],
      "execution_count": 26,
      "outputs": [
        {
          "output_type": "stream",
          "text": [
            "Chi Square value is 14.959999999999999\n",
            "Critical region with 3df and alpha=0.05 is 7.82\n",
            "We reject null hypothesis. All candidates are not equally popular\n"
          ],
          "name": "stdout"
        }
      ]
    },
    {
      "cell_type": "markdown",
      "metadata": {
        "id": "-KspSleMDWsS"
      },
      "source": [
        "**Problem Statement 20:**\n",
        "\n",
        "Children of three ages are asked to indicate their preference for three photographs of adults. Do the data suggest that there is a significant relationship between age and photograph preference? What is wrong with this study? [Chi-Square = 29.6, with 4 df: 𝑝 < 0.05]."
      ]
    },
    {
      "cell_type": "code",
      "metadata": {
        "colab": {
          "base_uri": "https://localhost:8080/"
        },
        "id": "IKZKz5_HDUB9",
        "outputId": "4f270bb2-04e2-4089-9f48-51a9d5c034e9"
      },
      "source": [
        "obs=([[18,22,20],[2,28,40],[20,10,40]])\n",
        "result=chi2_contingency(obs)\n",
        "print(f\"Chi Square value is {result[0]}\")\n",
        "print(f\"Critical region with 4df and alpha=0.001 is 18.47\")\n",
        "print(\"We reject null hypothesis.There is significant relationship between age and photograph preference\")"
      ],
      "execution_count": 27,
      "outputs": [
        {
          "output_type": "stream",
          "text": [
            "Chi Square value is 29.603174603174608\n",
            "Critical region with 4df and alpha=0.001 is 18.47\n",
            "We reject null hypothesis.There is significant relationship between age and photograph preference\n"
          ],
          "name": "stdout"
        }
      ]
    },
    {
      "cell_type": "markdown",
      "metadata": {
        "id": "nmMA89-TDcUY"
      },
      "source": [
        "**Problem Statement 21:**\n",
        "\n",
        "A study of conformity using the Asch paradigm involved two conditions: one where one confederate supported the true judgement and another where no confederate gave the correct response.\n",
        "\n",
        "Is there a significant difference between the \"support\" and \"no support\" conditions in the frequency with which individuals are likely to conform? [Chi-Square = 19.87, with 1 df: 𝑝 < 0.05]."
      ]
    },
    {
      "cell_type": "code",
      "metadata": {
        "colab": {
          "base_uri": "https://localhost:8080/"
        },
        "id": "RQI-mAqKDbjy",
        "outputId": "db3a1d42-94ef-497c-f9d3-7c0d9f14c01e"
      },
      "source": [
        "obs=np.array([[18,40],[32,10]])\n",
        "result=chi2_contingency(obs)\n",
        "print(f\"Chi Square value is {result[0]}\")\n",
        "print(f\"Critical region with 1df and alpha=0.001 is 10.83\")\n",
        "print(\"We reject null hypoythesis.So,there is significant difference between the 'support' and 'no support' conditions in the frequency with which individuals are likely to conform\")"
      ],
      "execution_count": 28,
      "outputs": [
        {
          "output_type": "stream",
          "text": [
            "Chi Square value is 18.10344827586207\n",
            "Critical region with 1df and alpha=0.001 is 10.83\n",
            "We reject null hypoythesis.So,there is significant difference between the 'support' and 'no support' conditions in the frequency with which individuals are likely to conform\n"
          ],
          "name": "stdout"
        }
      ]
    },
    {
      "cell_type": "markdown",
      "metadata": {
        "id": "oXSISw2ODmFb"
      },
      "source": [
        "**Problem Statement 22:**\n",
        "\n",
        "We want to test whether short people differ with respect to their leadership qualities (Genghis Khan, Adolf Hitler and Napoleon were all stature-deprived, and how many midget MP's are there?) The following table shows the frequencies with which 43 short people and 52 tall people were categorized as \"leaders\", \"followers\" or as \"unclassifiable\". Is there a relationship between height and leadership qualities? [Chi-Square = 10.71, with 2 df: 𝑝 < 0.01]."
      ]
    },
    {
      "cell_type": "code",
      "metadata": {
        "colab": {
          "base_uri": "https://localhost:8080/"
        },
        "id": "8AoEGW_ADh-P",
        "outputId": "b3d1273c-e933-4a00-92d5-69067c8accd6"
      },
      "source": [
        "obs=([[12,32],[22,14],[9,6]])\n",
        "result=chi2_contingency(obs)\n",
        "print(f\"Chi Square value is {result[0]}\")\n",
        "print(f\"Critical region with 2df and alpha=0.001 is 13.82\")\n",
        "print(\"We accept null hypothesis.there is no relationship between height and leadership qualities\")"
      ],
      "execution_count": 29,
      "outputs": [
        {
          "output_type": "stream",
          "text": [
            "Chi Square value is 10.712198008709638\n",
            "Critical region with 2df and alpha=0.001 is 13.82\n",
            "We accept null hypothesis.there is no relationship between height and leadership qualities\n"
          ],
          "name": "stdout"
        }
      ]
    },
    {
      "cell_type": "markdown",
      "metadata": {
        "id": "oNyBsbBrDrO3"
      },
      "source": [
        "**Problem Statement 23:**\n",
        "\n",
        "Each respondent in the Current Population Survey of March 1993 was classified as employed, unemployed, or outside the labor force. The results for men in California age 35- 44 can be cross-tabulated by marital status, as follows:\n",
        "\n",
        "Men of different marital status seem to have different distributions of labor force status. Or is this just chance variation? (you may assume the table results from a simple random sample.)"
      ]
    },
    {
      "cell_type": "code",
      "metadata": {
        "colab": {
          "base_uri": "https://localhost:8080/"
        },
        "id": "4YW47iKaDqJ0",
        "outputId": "4958fe89-6594-4857-fc32-c4bf04220234"
      },
      "source": [
        "obs = np.array([[679,103,114], [63,10,20],[42,18,25]])\n",
        "result=chi2_contingency(obs)\n",
        "print(f\"Chi Square value is {result[0]}\")\n",
        "print(f\"Critical region with 4df and alpha=0.001 is 18.47\")\n",
        "print(\"We reject null hypothesis at alpha=0.001 .there is relationship between martial status and employment status\")"
      ],
      "execution_count": 30,
      "outputs": [
        {
          "output_type": "stream",
          "text": [
            "Chi Square value is 31.61310319407798\n",
            "Critical region with 4df and alpha=0.001 is 18.47\n",
            "We reject null hypothesis at alpha=0.001 .there is relationship between martial status and employment status\n"
          ],
          "name": "stdout"
        }
      ]
    }
  ]
}