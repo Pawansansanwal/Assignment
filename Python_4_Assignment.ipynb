{
  "nbformat": 4,
  "nbformat_minor": 0,
  "metadata": {
    "colab": {
      "name": "Python 4 Assignment.ipynb",
      "provenance": [],
      "collapsed_sections": [],
      "authorship_tag": "ABX9TyNZFfZupRsHNLEpougQSCbG",
      "include_colab_link": true
    },
    "kernelspec": {
      "name": "python3",
      "display_name": "Python 3"
    }
  },
  "cells": [
    {
      "cell_type": "markdown",
      "metadata": {
        "id": "view-in-github",
        "colab_type": "text"
      },
      "source": [
        "<a href=\"https://colab.research.google.com/github/Pawansansanwal/Assignment/blob/master/Python_4_Assignment.ipynb\" target=\"_parent\"><img src=\"https://colab.research.google.com/assets/colab-badge.svg\" alt=\"Open In Colab\"/></a>"
      ]
    },
    {
      "cell_type": "code",
      "metadata": {
        "id": "JhVwNIGSO1JI"
      },
      "source": [
        "import math"
      ],
      "execution_count": 1,
      "outputs": []
    },
    {
      "cell_type": "code",
      "metadata": {
        "id": "v2wR_f0jU4Kt",
        "outputId": "f5065f96-fc93-4d73-c3f7-feedac4cd072",
        "colab": {
          "base_uri": "https://localhost:8080/",
          "height": 34
        }
      },
      "source": [
        "class Areaoftriangle:\n",
        "  def __init__(self,a,b,c):\n",
        "    self.a = a\n",
        "    self.b = b\n",
        "    self.c = c\n",
        "  def area(self):\n",
        "    s = (self.a + self.b + self.c)/2\n",
        "    return (s*(s-self.a)*(s-self.b)*(s-self.c))**.5\n",
        "if __name__=='__main__':\n",
        "  p = Areaoftriangle(7,8,9)\n",
        "  print (\"Area of Triangle = \",p.area())"
      ],
      "execution_count": 2,
      "outputs": [
        {
          "output_type": "stream",
          "text": [
            "Area of Triangle =  26.832815729997478\n"
          ],
          "name": "stdout"
        }
      ]
    },
    {
      "cell_type": "code",
      "metadata": {
        "id": "WqXsadA8WHIh"
      },
      "source": [
        "def filter_long_words(a,num):\n",
        "  lists = []\n",
        "  for i in a:\n",
        "    if len(i)>num:\n",
        "      lists.append(i)\n",
        "  return lists"
      ],
      "execution_count": 3,
      "outputs": []
    },
    {
      "cell_type": "code",
      "metadata": {
        "id": "R_Md0_j-XS2d",
        "outputId": "271a1eb2-71cb-45a2-d913-8908f7893996",
        "colab": {
          "base_uri": "https://localhost:8080/",
          "height": 34
        }
      },
      "source": [
        "b = [\"I\",\"AM\",\"Learning\",\"Machine\",\"Learning\",\"With\",\"iNeuron\"]\n",
        "filter_long_words(b,2)"
      ],
      "execution_count": 4,
      "outputs": [
        {
          "output_type": "execute_result",
          "data": {
            "text/plain": [
              "['Learning', 'Machine', 'Learning', 'With', 'iNeuron']"
            ]
          },
          "metadata": {
            "tags": []
          },
          "execution_count": 4
        }
      ]
    },
    {
      "cell_type": "code",
      "metadata": {
        "id": "yAtJhl1uX6Xi"
      },
      "source": [
        "def words2number(a):\n",
        "  lists = []\n",
        "  for i in a:\n",
        "    lists.append(len(i))\n",
        "  return lists"
      ],
      "execution_count": 5,
      "outputs": []
    },
    {
      "cell_type": "code",
      "metadata": {
        "id": "70o3ARu5X7cw",
        "outputId": "49aab0b4-5544-4716-bc5a-d80eb8f33404",
        "colab": {
          "base_uri": "https://localhost:8080/",
          "height": 34
        }
      },
      "source": [
        "b = [\"I\",\"AM\",\"Learning\",\"Machine\",\"Learning\",\"With\",\"iNeuron\"]\n",
        "words2number(b)"
      ],
      "execution_count": 6,
      "outputs": [
        {
          "output_type": "execute_result",
          "data": {
            "text/plain": [
              "[1, 2, 8, 7, 8, 4, 7]"
            ]
          },
          "metadata": {
            "tags": []
          },
          "execution_count": 6
        }
      ]
    },
    {
      "cell_type": "code",
      "metadata": {
        "id": "JtvXZsfDX6bc"
      },
      "source": [
        "def is_vowel(char):\n",
        "  allvowels = 'aeiou'\n",
        "  if char in allvowels:\n",
        "    return True\n",
        "  else:\n",
        "    return False"
      ],
      "execution_count": 7,
      "outputs": []
    },
    {
      "cell_type": "code",
      "metadata": {
        "id": "U30KWwv0Zvcc",
        "outputId": "b9eb933d-1e04-4b8e-de22-0e687438dbe1",
        "colab": {
          "base_uri": "https://localhost:8080/",
          "height": 34
        }
      },
      "source": [
        "is_vowel('m')"
      ],
      "execution_count": 8,
      "outputs": [
        {
          "output_type": "execute_result",
          "data": {
            "text/plain": [
              "False"
            ]
          },
          "metadata": {
            "tags": []
          },
          "execution_count": 8
        }
      ]
    },
    {
      "cell_type": "code",
      "metadata": {
        "id": "RrRxx3AJaejx",
        "outputId": "d7dd6fa7-1280-400b-af3d-fd5116e90d0f",
        "colab": {
          "base_uri": "https://localhost:8080/",
          "height": 34
        }
      },
      "source": [
        "is_vowel('a')"
      ],
      "execution_count": 9,
      "outputs": [
        {
          "output_type": "execute_result",
          "data": {
            "text/plain": [
              "True"
            ]
          },
          "metadata": {
            "tags": []
          },
          "execution_count": 9
        }
      ]
    }
  ]
}