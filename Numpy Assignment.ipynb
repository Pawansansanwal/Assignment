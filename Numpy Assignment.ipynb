{
 "cells": [
  {
   "cell_type": "code",
   "execution_count": 1,
   "metadata": {},
   "outputs": [],
   "source": [
    "import numpy as np"
   ]
  },
  {
   "cell_type": "markdown",
   "metadata": {},
   "source": [
    "### Q.1 Write a function so that the columns of the output matrix are powers of the input vector."
   ]
  },
  {
   "cell_type": "code",
   "execution_count": 7,
   "metadata": {},
   "outputs": [],
   "source": [
    "a = np.array([2,3,4])"
   ]
  },
  {
   "cell_type": "code",
   "execution_count": 8,
   "metadata": {},
   "outputs": [],
   "source": [
    "b = np.array([2,3,4,5,6])"
   ]
  },
  {
   "cell_type": "code",
   "execution_count": 10,
   "metadata": {},
   "outputs": [
    {
     "name": "stdout",
     "output_type": "stream",
     "text": [
      "[2 3 4]\n",
      "[2 3 4 5 6]\n"
     ]
    }
   ],
   "source": [
    "print(a)\n",
    "print(b)"
   ]
  },
  {
   "cell_type": "code",
   "execution_count": 11,
   "metadata": {},
   "outputs": [],
   "source": [
    "def my_vander_matrix(vector, n , increasing = False):\n",
    "    \n",
    "    if not increasing:\n",
    "        op_matrix = np.array([x**(n-1-i) for x in vector for i in range(n)]).reshape(vector.size,n)\n",
    "    elif increasing:\n",
    "        op_matrix = np.array([(x**i) for x in vector for i in range(n)]).reshape(vector.size,n)\n",
    "    return op_matrix        "
   ]
  },
  {
   "cell_type": "code",
   "execution_count": 13,
   "metadata": {},
   "outputs": [
    {
     "name": "stdout",
     "output_type": "stream",
     "text": [
      "Output for the First Array\n",
      "\n",
      "Vander matrix of the input array in decreasing order of powers:\n",
      "\n",
      " [[ 4  2  1]\n",
      " [ 9  3  1]\n",
      " [16  4  1]] \n",
      "\n",
      "Vander matrix of the input array in increasing order of powers:\n",
      "\n",
      " [[ 1  2  4]\n",
      " [ 1  3  9]\n",
      " [ 1  4 16]] \n",
      "\n"
     ]
    }
   ],
   "source": [
    "print('Output for the First Array\\n')\n",
    "\n",
    "op_matrix_decreasing_order = my_vander_matrix(a,3,False)\n",
    "op_matrix_increasing_order = my_vander_matrix(a,3,True)\n",
    "\n",
    "print(\"Vander matrix of the input array in decreasing order of powers:\\n\\n\",op_matrix_decreasing_order,\"\\n\")\n",
    "print(\"Vander matrix of the input array in increasing order of powers:\\n\\n\",op_matrix_increasing_order,\"\\n\")"
   ]
  },
  {
   "cell_type": "code",
   "execution_count": 14,
   "metadata": {},
   "outputs": [
    {
     "name": "stdout",
     "output_type": "stream",
     "text": [
      "Output for the First Array\n",
      "\n",
      "Vander matrix of the input array in decreasing order of powers:\n",
      "\n",
      " [[  16    8    4    2    1]\n",
      " [  81   27    9    3    1]\n",
      " [ 256   64   16    4    1]\n",
      " [ 625  125   25    5    1]\n",
      " [1296  216   36    6    1]] \n",
      "\n",
      "Vander matrix of the input array in increasing order of powers:\n",
      "\n",
      " [[   1    2    4    8   16]\n",
      " [   1    3    9   27   81]\n",
      " [   1    4   16   64  256]\n",
      " [   1    5   25  125  625]\n",
      " [   1    6   36  216 1296]] \n",
      "\n"
     ]
    }
   ],
   "source": [
    "print('Output for the First Array\\n')\n",
    "\n",
    "op_matrix_decreasing_order = my_vander_matrix(b,5,False)\n",
    "op_matrix_increasing_order = my_vander_matrix(b,5,True)\n",
    "\n",
    "print(\"Vander matrix of the input array in decreasing order of powers:\\n\\n\",op_matrix_decreasing_order,\"\\n\")\n",
    "print(\"Vander matrix of the input array in increasing order of powers:\\n\\n\",op_matrix_increasing_order,\"\\n\")"
   ]
  },
  {
   "cell_type": "markdown",
   "metadata": {},
   "source": [
    "### Write a function to find moving average in an array over a window:\n",
    "### Test it over [3, 5, 7, 2, 8, 10, 11, 65, 72, 81, 99, 100, 150] and window of 3."
   ]
  },
  {
   "cell_type": "code",
   "execution_count": 21,
   "metadata": {},
   "outputs": [],
   "source": [
    "def my_ma_func(list,k):\n",
    "    cumsum, moving_avgs = [0],[]\n",
    "    for i, x in enumerate(list,1):\n",
    "        cumsum.append(cumsum[i-1] + x)\n",
    "        if i >= k:\n",
    "            moving_avg = round(((cumsum[i] - cumsum[i - k])/k),2)\n",
    "            moving_avgs.append(moving_avg)\n",
    "    print(\"Moving average values list:\",moving_avgs)\n",
    "    print(\"Length of the list n-k+1:\", len(moving_avgs))"
   ]
  },
  {
   "cell_type": "code",
   "execution_count": 22,
   "metadata": {},
   "outputs": [
    {
     "name": "stdout",
     "output_type": "stream",
     "text": [
      "Moving average values list: [5.0, 4.67, 5.67, 6.67, 9.67, 28.67, 49.33, 72.67, 84.0, 93.33, 116.33]\n",
      "Length of the list n-k+1: 11\n"
     ]
    }
   ],
   "source": [
    "list = [3, 5, 7, 2, 8, 10, 11, 65, 72, 81, 99, 100, 150]\n",
    "\n",
    "k = 3\n",
    "\n",
    "my_ma_func(list,k)"
   ]
  }
 ],
 "metadata": {
  "kernelspec": {
   "display_name": "Python 3",
   "language": "python",
   "name": "python3"
  },
  "language_info": {
   "codemirror_mode": {
    "name": "ipython",
    "version": 3
   },
   "file_extension": ".py",
   "mimetype": "text/x-python",
   "name": "python",
   "nbconvert_exporter": "python",
   "pygments_lexer": "ipython3",
   "version": "3.7.6"
  }
 },
 "nbformat": 4,
 "nbformat_minor": 4
}
